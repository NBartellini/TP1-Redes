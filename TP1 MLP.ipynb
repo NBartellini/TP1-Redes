{
 "cells": [
  {
   "cell_type": "markdown",
   "id": "p5nM7mK0hPWC",
   "metadata": {
    "id": "p5nM7mK0hPWC"
   },
   "source": [
    "# Condiciones de entrega\n",
    "\n",
    "\n",
    "Además de realizar al menos un envío replicando los resultados del paper antes mencionados, se deberá entregar el código del trabajo práctico junto a un breve informe que explique la idea del modelo implementado y una indicación de cómo ejecutar el programa si fuera necesaria. Ambos elementos se deben subir a un repositorio en github y enviar el link vìa campus. El trabajo podrá hacerse en grupos de hasta 3 personas. Los integrantes deben estar registrados enviando mail a cselmo@itba.edu.ar\n",
    "\n",
    "# Fecha de entrega del TP\n",
    "\n",
    "\n",
    "Para la evaluaciòn del TP como tal la fecha de vencimiento es el 27 de septiembre a las 23:59hs. Para dicha fecha deberán resolver el problema utilizando un clasificador de texto basado en Naive Bayes Multinomial y otro en MLP. La estructura de validación debe quedar perfectamente clara en el informe (Hold-out Validation, K-folding, etc).\n",
    "\n",
    "# Para la evaluación del TP se debe informar claramente:\n",
    "\n",
    "1) Técnica de validación utilizada. La metodología con respecto a este punto debe ser impecable.\n",
    "\n",
    "2) Elección de una métrica primaria\n",
    "\n",
    "3) Informar las métricas secundarias: Precision, Recall, F1-Score y ROC-AUC, explicando claramente qué mide cada una de ellas, sus ventajas y desventajas.\n",
    "\n",
    "4) Para las métricas mencionadas anteriormente realizar una interpretaciòn y comparación para el modelo NBMN y MLP.\n",
    "\n",
    "5) En las conclusiones informar si el dataset posee o no sesgos en el armado de los datos."
   ]
  },
  {
   "cell_type": "markdown",
   "id": "edbcd896-948d-4a73-9522-5181e2a9801d",
   "metadata": {
    "id": "edbcd896-948d-4a73-9522-5181e2a9801d"
   },
   "source": [
    "# Librerías utilizadas"
   ]
  },
  {
   "cell_type": "code",
   "execution_count": 2,
   "id": "M7VgECjb-k9b",
   "metadata": {
    "colab": {
     "base_uri": "https://localhost:8080/"
    },
    "executionInfo": {
     "elapsed": 4614,
     "status": "ok",
     "timestamp": 1633386065109,
     "user": {
      "displayName": "MARTINA BUNGE",
      "photoUrl": "https://lh3.googleusercontent.com/a/default-user=s64",
      "userId": "06668125805870524406"
     },
     "user_tz": 180
    },
    "id": "M7VgECjb-k9b",
    "outputId": "33d62b0c-b8e0-434a-c52d-da94b1cf6c8a"
   },
   "outputs": [
    {
     "name": "stdout",
     "output_type": "stream",
     "text": [
      "Requirement already satisfied: dask[dataframe] in /usr/local/lib/python3.7/dist-packages (2.12.0)\n",
      "Requirement already satisfied: pandas>=0.23.0 in /usr/local/lib/python3.7/dist-packages (from dask[dataframe]) (1.1.5)\n",
      "Collecting fsspec>=0.6.0\n",
      "  Downloading fsspec-2021.10.0-py3-none-any.whl (125 kB)\n",
      "\u001b[K     |████████████████████████████████| 125 kB 5.1 MB/s \n",
      "\u001b[?25hRequirement already satisfied: numpy>=1.13.0 in /usr/local/lib/python3.7/dist-packages (from dask[dataframe]) (1.19.5)\n",
      "Collecting partd>=0.3.10\n",
      "  Downloading partd-1.2.0-py3-none-any.whl (19 kB)\n",
      "Requirement already satisfied: toolz>=0.7.3 in /usr/local/lib/python3.7/dist-packages (from dask[dataframe]) (0.11.1)\n",
      "Requirement already satisfied: pytz>=2017.2 in /usr/local/lib/python3.7/dist-packages (from pandas>=0.23.0->dask[dataframe]) (2018.9)\n",
      "Requirement already satisfied: python-dateutil>=2.7.3 in /usr/local/lib/python3.7/dist-packages (from pandas>=0.23.0->dask[dataframe]) (2.8.2)\n",
      "Collecting locket\n",
      "  Downloading locket-0.2.1-py2.py3-none-any.whl (4.1 kB)\n",
      "Requirement already satisfied: six>=1.5 in /usr/local/lib/python3.7/dist-packages (from python-dateutil>=2.7.3->pandas>=0.23.0->dask[dataframe]) (1.15.0)\n",
      "Installing collected packages: locket, partd, fsspec\n",
      "Successfully installed fsspec-2021.10.0 locket-0.2.1 partd-1.2.0\n"
     ]
    }
   ],
   "source": [
    " pip install dask[dataframe] --upgrade"
   ]
  },
  {
   "cell_type": "code",
   "execution_count": 3,
   "id": "761cb712-9bc6-4893-914d-444f570f4fc2",
   "metadata": {
    "executionInfo": {
     "elapsed": 1913,
     "status": "ok",
     "timestamp": 1633386068901,
     "user": {
      "displayName": "MARTINA BUNGE",
      "photoUrl": "https://lh3.googleusercontent.com/a/default-user=s64",
      "userId": "06668125805870524406"
     },
     "user_tz": 180
    },
    "id": "761cb712-9bc6-4893-914d-444f570f4fc2"
   },
   "outputs": [],
   "source": [
    "import os\n",
    "import numpy as np \n",
    "import pandas as pd\n",
    "from matplotlib import pyplot as plt\n",
    "#Para el preprocesado\n",
    "import nltk\n",
    "from collections import Counter\n",
    "from sklearn.feature_extraction.text import CountVectorizer\n",
    "from sklearn.feature_extraction.text import TfidfVectorizer\n",
    "#Para los modelos\n",
    "from sklearn.naive_bayes import MultinomialNB\n",
    "from sklearn.neural_network import MLPClassifier\n",
    "from sklearn.model_selection import train_test_split\n",
    "from sklearn.metrics import accuracy_score\n",
    "from sklearn.model_selection import cross_val_score"
   ]
  },
  {
   "cell_type": "markdown",
   "id": "7540cfa0-c12e-430f-97f6-8827e99a81e6",
   "metadata": {
    "id": "7540cfa0-c12e-430f-97f6-8827e99a81e6"
   },
   "source": [
    "# Importamos los datos de la competencia"
   ]
  },
  {
   "cell_type": "markdown",
   "id": "rVNIgrpkCorM",
   "metadata": {
    "id": "rVNIgrpkCorM"
   },
   "source": [
    "# Cargar datos desde la carpeta de drive"
   ]
  },
  {
   "cell_type": "code",
   "execution_count": 4,
   "id": "hfojDfv5ZjuE",
   "metadata": {
    "colab": {
     "base_uri": "https://localhost:8080/"
    },
    "executionInfo": {
     "elapsed": 28044,
     "status": "ok",
     "timestamp": 1633386100616,
     "user": {
      "displayName": "MARTINA BUNGE",
      "photoUrl": "https://lh3.googleusercontent.com/a/default-user=s64",
      "userId": "06668125805870524406"
     },
     "user_tz": 180
    },
    "id": "hfojDfv5ZjuE",
    "outputId": "f155c069-b277-48b9-93af-3ad1f9423c83"
   },
   "outputs": [
    {
     "name": "stdout",
     "output_type": "stream",
     "text": [
      "Mounted at /content/drive\n"
     ]
    }
   ],
   "source": [
    "from google.colab import drive\n",
    "drive.mount('/content/drive')"
   ]
  },
  {
   "cell_type": "code",
   "execution_count": 5,
   "id": "-dbOZYBrCsm3",
   "metadata": {
    "executionInfo": {
     "elapsed": 7940,
     "status": "ok",
     "timestamp": 1633386110499,
     "user": {
      "displayName": "MARTINA BUNGE",
      "photoUrl": "https://lh3.googleusercontent.com/a/default-user=s64",
      "userId": "06668125805870524406"
     },
     "user_tz": 180
    },
    "id": "-dbOZYBrCsm3"
   },
   "outputs": [],
   "source": [
    "# Cargo los datos\n",
    "df_train = pd.read_hdf(\"/content/drive/MyDrive/Redes TPS/TP Redes 1/train_data.hdf5\")\n",
    "df_valid = pd.read_hdf(\"/content/drive/MyDrive/Redes TPS/TP Redes 1/valid_data.hdf5\")\n",
    "df_test = pd.read_hdf(\"/content/drive/MyDrive/Redes TPS/TP Redes 1/test_data.hdf5\")\n",
    "df_submission = pd.read_csv(\"/content/drive/MyDrive/Redes TPS/TP Redes 1/submission_sample.csv\", index_col=\"pairID\")"
   ]
  },
  {
   "cell_type": "code",
   "execution_count": null,
   "id": "3MpZgsE8EzIs",
   "metadata": {
    "id": "3MpZgsE8EzIs"
   },
   "outputs": [],
   "source": []
  },
  {
   "cell_type": "markdown",
   "id": "zDL_DPspdfc7",
   "metadata": {
    "id": "zDL_DPspdfc7"
   },
   "source": [
    "### Vamos a generar un modelo con MLPClassifier de Scikit learn"
   ]
  },
  {
   "cell_type": "markdown",
   "id": "ZNeNCoV1duQ_",
   "metadata": {
    "id": "ZNeNCoV1duQ_"
   },
   "source": [
    "Esto genera un Multiple Layer Percepron a partir de diferentes parámetros, como cantidad de capas ocultas, función de activación, entre otras"
   ]
  },
  {
   "cell_type": "code",
   "execution_count": null,
   "id": "gwdlNpz5dtCe",
   "metadata": {
    "id": "gwdlNpz5dtCe"
   },
   "outputs": [],
   "source": []
  },
  {
   "cell_type": "markdown",
   "id": "sTWUhaIxgZrK",
   "metadata": {
    "id": "sTWUhaIxgZrK"
   },
   "source": [
    "## Verificamos la variabilidad de los resultados \n",
    "\n",
    "* dependiendo de la partición del conjunto de entrenamiento y validación \n",
    "* con el modelo MLPClassifier de Scikit Learn\n",
    "\n",
    "Solo para comprobar, vamos a juntar en un mismo dataframe validación y entrenamiento para realizar 3 particiones de ese dataset total y verificar que los resultados del modelo no varíen demasiado."
   ]
  },
  {
   "cell_type": "code",
   "execution_count": 9,
   "id": "BAGmt4fh1cdI",
   "metadata": {
    "colab": {
     "base_uri": "https://localhost:8080/",
     "height": 450
    },
    "executionInfo": {
     "elapsed": 245,
     "status": "ok",
     "timestamp": 1633261489141,
     "user": {
      "displayName": "MARTINA BUNGE",
      "photoUrl": "https://lh3.googleusercontent.com/a/default-user=s64",
      "userId": "06668125805870524406"
     },
     "user_tz": 180
    },
    "id": "BAGmt4fh1cdI",
    "outputId": "698a8d11-16c4-4c01-a92e-95df67923cb8"
   },
   "outputs": [
    {
     "data": {
      "text/html": [
       "<div>\n",
       "<style scoped>\n",
       "    .dataframe tbody tr th:only-of-type {\n",
       "        vertical-align: middle;\n",
       "    }\n",
       "\n",
       "    .dataframe tbody tr th {\n",
       "        vertical-align: top;\n",
       "    }\n",
       "\n",
       "    .dataframe thead th {\n",
       "        text-align: right;\n",
       "    }\n",
       "</style>\n",
       "<table border=\"1\" class=\"dataframe\">\n",
       "  <thead>\n",
       "    <tr style=\"text-align: right;\">\n",
       "      <th></th>\n",
       "      <th>gold_label</th>\n",
       "      <th>text</th>\n",
       "    </tr>\n",
       "    <tr>\n",
       "      <th>pairID</th>\n",
       "      <th></th>\n",
       "      <th></th>\n",
       "    </tr>\n",
       "  </thead>\n",
       "  <tbody>\n",
       "    <tr>\n",
       "      <th>1000092795.jpg#0r1c</th>\n",
       "      <td>contradiction</td>\n",
       "      <td>they are inside of a house</td>\n",
       "    </tr>\n",
       "    <tr>\n",
       "      <th>1000092795.jpg#0r1e</th>\n",
       "      <td>entailment</td>\n",
       "      <td>two guys are in a yard</td>\n",
       "    </tr>\n",
       "    <tr>\n",
       "      <th>1000092795.jpg#0r1n</th>\n",
       "      <td>neutral</td>\n",
       "      <td>They are doing yardwork</td>\n",
       "    </tr>\n",
       "    <tr>\n",
       "      <th>1000092795.jpg#1r1c</th>\n",
       "      <td>contradiction</td>\n",
       "      <td>A man is swimming.</td>\n",
       "    </tr>\n",
       "    <tr>\n",
       "      <th>1000092795.jpg#1r1e</th>\n",
       "      <td>entailment</td>\n",
       "      <td>Two young white men are near some bushes.</td>\n",
       "    </tr>\n",
       "    <tr>\n",
       "      <th>...</th>\n",
       "      <td>...</td>\n",
       "      <td>...</td>\n",
       "    </tr>\n",
       "    <tr>\n",
       "      <th>985982384.jpg#3r1e</th>\n",
       "      <td>entailment</td>\n",
       "      <td>The men and women are dressed in clothes for t...</td>\n",
       "    </tr>\n",
       "    <tr>\n",
       "      <th>985982384.jpg#3r1n</th>\n",
       "      <td>neutral</td>\n",
       "      <td>The bathing suits are blue.</td>\n",
       "    </tr>\n",
       "    <tr>\n",
       "      <th>98756067.jpg#1r1c</th>\n",
       "      <td>contradiction</td>\n",
       "      <td>Two men trying to dance for a song</td>\n",
       "    </tr>\n",
       "    <tr>\n",
       "      <th>98756067.jpg#1r1e</th>\n",
       "      <td>entailment</td>\n",
       "      <td>Few men practicing martial arts in a studio, w...</td>\n",
       "    </tr>\n",
       "    <tr>\n",
       "      <th>98756067.jpg#1r1n</th>\n",
       "      <td>entailment</td>\n",
       "      <td>Two men practicing martial arts</td>\n",
       "    </tr>\n",
       "  </tbody>\n",
       "</table>\n",
       "<p>559209 rows × 2 columns</p>\n",
       "</div>"
      ],
      "text/plain": [
       "                        gold_label                                               text\n",
       "pairID                                                                               \n",
       "1000092795.jpg#0r1c  contradiction                         they are inside of a house\n",
       "1000092795.jpg#0r1e     entailment                             two guys are in a yard\n",
       "1000092795.jpg#0r1n        neutral                            They are doing yardwork\n",
       "1000092795.jpg#1r1c  contradiction                                 A man is swimming.\n",
       "1000092795.jpg#1r1e     entailment          Two young white men are near some bushes.\n",
       "...                            ...                                                ...\n",
       "985982384.jpg#3r1e      entailment  The men and women are dressed in clothes for t...\n",
       "985982384.jpg#3r1n         neutral                        The bathing suits are blue.\n",
       "98756067.jpg#1r1c    contradiction                 Two men trying to dance for a song\n",
       "98756067.jpg#1r1e       entailment  Few men practicing martial arts in a studio, w...\n",
       "98756067.jpg#1r1n       entailment                    Two men practicing martial arts\n",
       "\n",
       "[559209 rows x 2 columns]"
      ]
     },
     "execution_count": 9,
     "metadata": {},
     "output_type": "execute_result"
    }
   ],
   "source": [
    "df_concat = pd.concat([df_train, df_valid])\n",
    "df_concat"
   ]
  },
  {
   "cell_type": "code",
   "execution_count": 12,
   "id": "oKKIfdoJ4yCB",
   "metadata": {
    "colab": {
     "base_uri": "https://localhost:8080/"
    },
    "executionInfo": {
     "elapsed": 1014051,
     "status": "ok",
     "timestamp": 1633264924141,
     "user": {
      "displayName": "MARTINA BUNGE",
      "photoUrl": "https://lh3.googleusercontent.com/a/default-user=s64",
      "userId": "06668125805870524406"
     },
     "user_tz": 180
    },
    "id": "oKKIfdoJ4yCB",
    "outputId": "86390599-ee82-4fce-f036-369c4e8b4552"
   },
   "outputs": [
    {
     "name": "stdout",
     "output_type": "stream",
     "text": [
      "Iteration 1, loss = 0.94211418\n",
      "Iteration 2, loss = 0.84715580\n",
      "Iteration 3, loss = 0.83762450\n",
      "Iteration 4, loss = 0.83114652\n",
      "Iteration 5, loss = 0.82556079\n",
      "Iteration 6, loss = 0.82108821\n",
      "Iteration 7, loss = 0.81706696\n",
      "Iteration 8, loss = 0.81383148\n",
      "Iteration 9, loss = 0.81114776\n",
      "Iteration 10, loss = 0.80851843\n",
      "Iteration 11, loss = 0.80632272\n",
      "Iteration 12, loss = 0.80435895\n",
      "Iteration 13, loss = 0.80274059\n",
      "Iteration 14, loss = 0.80135207\n",
      "Iteration 15, loss = 0.79991097\n",
      "Iteration 16, loss = 0.79863763\n",
      "Iteration 17, loss = 0.79767120\n",
      "Iteration 18, loss = 0.79651151\n",
      "Iteration 19, loss = 0.79565920\n",
      "Iteration 20, loss = 0.79484816\n",
      "Iteration 21, loss = 0.79391581\n",
      "Iteration 22, loss = 0.79328918\n",
      "Iteration 23, loss = 0.79268005\n",
      "Iteration 24, loss = 0.79211675\n",
      "Iteration 25, loss = 0.79138993\n",
      "Iteration 26, loss = 0.79078668\n",
      "Iteration 27, loss = 0.79020667\n",
      "Iteration 28, loss = 0.78974181\n",
      "Iteration 29, loss = 0.78930633\n",
      "Iteration 30, loss = 0.78884599\n",
      "Iteration 31, loss = 0.78836869\n",
      "Iteration 32, loss = 0.78800329\n",
      "Iteration 33, loss = 0.78749078\n",
      "Iteration 34, loss = 0.78725641\n",
      "Iteration 35, loss = 0.78692175\n",
      "Iteration 36, loss = 0.78651631\n",
      "Iteration 37, loss = 0.78616300\n",
      "Iteration 38, loss = 0.78595462\n",
      "Iteration 39, loss = 0.78569953\n",
      "Iteration 40, loss = 0.78534988\n",
      "Iteration 41, loss = 0.78499662\n",
      "Iteration 42, loss = 0.78481620\n",
      "Iteration 43, loss = 0.78440822\n",
      "Iteration 44, loss = 0.78438505\n",
      "Iteration 45, loss = 0.78394019\n",
      "Iteration 46, loss = 0.78388809\n",
      "Iteration 47, loss = 0.78350416\n",
      "Iteration 48, loss = 0.78343480\n",
      "Iteration 49, loss = 0.78315811\n",
      "Iteration 50, loss = 0.78282006\n",
      "Iteration 51, loss = 0.78284001\n",
      "Iteration 52, loss = 0.78260740\n",
      "Iteration 53, loss = 0.78225582\n",
      "Iteration 54, loss = 0.78204003\n",
      "Iteration 55, loss = 0.78199516\n",
      "Iteration 56, loss = 0.78171128\n",
      "Iteration 57, loss = 0.78173093\n",
      "Iteration 58, loss = 0.78138102\n",
      "Iteration 59, loss = 0.78131072\n",
      "Iteration 60, loss = 0.78112445\n",
      "Iteration 61, loss = 0.78093825\n",
      "Iteration 62, loss = 0.78081267\n",
      "Iteration 63, loss = 0.78066752\n",
      "Iteration 64, loss = 0.78059194\n",
      "Iteration 65, loss = 0.78028001\n",
      "Iteration 66, loss = 0.78023027\n",
      "Iteration 67, loss = 0.78019593\n",
      "Iteration 68, loss = 0.77992538\n",
      "Iteration 69, loss = 0.77991788\n",
      "Iteration 70, loss = 0.77967996\n",
      "Iteration 71, loss = 0.77949626\n",
      "Iteration 72, loss = 0.77954434\n",
      "Iteration 73, loss = 0.77921156\n",
      "Iteration 74, loss = 0.77917588\n",
      "Iteration 75, loss = 0.77909503\n",
      "Iteration 76, loss = 0.77906873\n",
      "Iteration 77, loss = 0.77877652\n",
      "Iteration 78, loss = 0.77884161\n",
      "Iteration 79, loss = 0.77854719\n",
      "Iteration 80, loss = 0.77848833\n",
      "Iteration 81, loss = 0.77854206\n",
      "Iteration 82, loss = 0.77829162\n",
      "Iteration 83, loss = 0.77819539\n",
      "Iteration 84, loss = 0.77823574\n",
      "Iteration 85, loss = 0.77807867\n",
      "Iteration 86, loss = 0.77783800\n",
      "Iteration 87, loss = 0.77788371\n",
      "Iteration 88, loss = 0.77767848\n",
      "Iteration 89, loss = 0.77757398\n",
      "Iteration 90, loss = 0.77759028\n",
      "Iteration 91, loss = 0.77758337\n",
      "Iteration 92, loss = 0.77737323\n",
      "Iteration 93, loss = 0.77733545\n",
      "Iteration 94, loss = 0.77720957\n",
      "Iteration 95, loss = 0.77707789\n",
      "Iteration 96, loss = 0.77720948\n",
      "Iteration 97, loss = 0.77699957\n",
      "Iteration 98, loss = 0.77692198\n",
      "Iteration 99, loss = 0.77678749\n",
      "Iteration 100, loss = 0.77674302\n",
      "Iteration 101, loss = 0.77654964\n",
      "Iteration 102, loss = 0.77648485\n",
      "Iteration 103, loss = 0.77654234\n",
      "Iteration 104, loss = 0.77646130\n",
      "Iteration 105, loss = 0.77638334\n",
      "Iteration 106, loss = 0.77623978\n",
      "Iteration 107, loss = 0.77628304\n",
      "Iteration 108, loss = 0.77631243\n",
      "Iteration 109, loss = 0.77610704\n",
      "Iteration 110, loss = 0.77603612\n",
      "Iteration 111, loss = 0.77604941\n",
      "Iteration 112, loss = 0.77596028\n",
      "Iteration 113, loss = 0.77591856\n",
      "Iteration 114, loss = 0.77588248\n",
      "Iteration 115, loss = 0.77573365\n",
      "Iteration 116, loss = 0.77568370\n",
      "Iteration 117, loss = 0.77568707\n",
      "Iteration 118, loss = 0.77565355\n",
      "Iteration 119, loss = 0.77550604\n",
      "Iteration 120, loss = 0.77537886\n",
      "Iteration 121, loss = 0.77540706\n",
      "Iteration 122, loss = 0.77531561\n",
      "Iteration 123, loss = 0.77526304\n",
      "Iteration 124, loss = 0.77526799\n",
      "Iteration 125, loss = 0.77511487\n",
      "Iteration 126, loss = 0.77515307\n",
      "Iteration 127, loss = 0.77504192\n",
      "Iteration 128, loss = 0.77497860\n",
      "Iteration 129, loss = 0.77488886\n",
      "Iteration 130, loss = 0.77500540\n",
      "Iteration 131, loss = 0.77477620\n",
      "Iteration 132, loss = 0.77479158\n",
      "Iteration 133, loss = 0.77483118\n",
      "Iteration 134, loss = 0.77455951\n",
      "Iteration 135, loss = 0.77462085\n",
      "Iteration 136, loss = 0.77464752\n",
      "Iteration 137, loss = 0.77442551\n",
      "Iteration 138, loss = 0.77440805\n",
      "Iteration 139, loss = 0.77440262\n",
      "Iteration 140, loss = 0.77429050\n",
      "Iteration 141, loss = 0.77422355\n",
      "Iteration 142, loss = 0.77426748\n",
      "Iteration 143, loss = 0.77419921\n",
      "Iteration 144, loss = 0.77425211\n",
      "Iteration 145, loss = 0.77419392\n",
      "Iteration 146, loss = 0.77398469\n",
      "Iteration 147, loss = 0.77393960\n",
      "Iteration 148, loss = 0.77394595\n",
      "Iteration 149, loss = 0.77389229\n",
      "Iteration 150, loss = 0.77380011\n",
      "Iteration 151, loss = 0.77375239\n",
      "Iteration 152, loss = 0.77371519\n",
      "Iteration 153, loss = 0.77371937\n",
      "Iteration 154, loss = 0.77371048\n",
      "Iteration 155, loss = 0.77351974\n",
      "Iteration 156, loss = 0.77347881\n",
      "Iteration 157, loss = 0.77355240\n",
      "Iteration 158, loss = 0.77338709\n",
      "Iteration 159, loss = 0.77341171\n",
      "Iteration 160, loss = 0.77335638\n",
      "Iteration 161, loss = 0.77330491\n",
      "Iteration 162, loss = 0.77330771\n",
      "Iteration 163, loss = 0.77324439\n",
      "Iteration 164, loss = 0.77318303\n",
      "Iteration 165, loss = 0.77304822\n",
      "Iteration 166, loss = 0.77305795\n",
      "Iteration 167, loss = 0.77303984\n",
      "Iteration 168, loss = 0.77303107\n",
      "Iteration 169, loss = 0.77300384\n",
      "Iteration 170, loss = 0.77298591\n",
      "Iteration 171, loss = 0.77280979\n",
      "Iteration 172, loss = 0.77282321\n",
      "Iteration 173, loss = 0.77283650\n",
      "Iteration 174, loss = 0.77282462\n",
      "Iteration 175, loss = 0.77267833\n",
      "Iteration 176, loss = 0.77271067\n",
      "Iteration 177, loss = 0.77273637\n",
      "Iteration 178, loss = 0.77264725\n",
      "Iteration 179, loss = 0.77263893\n",
      "Iteration 180, loss = 0.77266854\n",
      "Iteration 181, loss = 0.77249197\n",
      "Iteration 182, loss = 0.77254495\n",
      "Iteration 183, loss = 0.77242761\n",
      "Iteration 184, loss = 0.77235354\n",
      "Iteration 185, loss = 0.77237991\n",
      "Iteration 186, loss = 0.77239070\n",
      "Iteration 187, loss = 0.77229396\n",
      "Iteration 188, loss = 0.77224763\n",
      "Iteration 189, loss = 0.77218489\n",
      "Iteration 190, loss = 0.77218388\n",
      "Iteration 191, loss = 0.77216635\n",
      "Iteration 192, loss = 0.77217042\n",
      "Training loss did not improve more than tol=0.000100 for 10 consecutive epochs. Stopping.\n",
      "Iteration 1, loss = 0.91944345\n",
      "Iteration 2, loss = 0.84720145\n",
      "Iteration 3, loss = 0.83988623\n",
      "Iteration 4, loss = 0.83459372\n",
      "Iteration 5, loss = 0.83014228\n",
      "Iteration 6, loss = 0.82621284\n",
      "Iteration 7, loss = 0.82275927\n",
      "Iteration 8, loss = 0.81949236\n",
      "Iteration 9, loss = 0.81660272\n",
      "Iteration 10, loss = 0.81377254\n",
      "Iteration 11, loss = 0.81130050\n",
      "Iteration 12, loss = 0.80872560\n",
      "Iteration 13, loss = 0.80660083\n",
      "Iteration 14, loss = 0.80472064\n",
      "Iteration 15, loss = 0.80303431\n",
      "Iteration 16, loss = 0.80153230\n",
      "Iteration 17, loss = 0.80011696\n",
      "Iteration 18, loss = 0.79885277\n",
      "Iteration 19, loss = 0.79788715\n",
      "Iteration 20, loss = 0.79691885\n",
      "Iteration 21, loss = 0.79581648\n",
      "Iteration 22, loss = 0.79518765\n",
      "Iteration 23, loss = 0.79437315\n",
      "Iteration 24, loss = 0.79363212\n",
      "Iteration 25, loss = 0.79302630\n",
      "Iteration 26, loss = 0.79230509\n",
      "Iteration 27, loss = 0.79172610\n",
      "Iteration 28, loss = 0.79105526\n",
      "Iteration 29, loss = 0.79067808\n",
      "Iteration 30, loss = 0.79012361\n",
      "Iteration 31, loss = 0.78968868\n",
      "Iteration 32, loss = 0.78919923\n",
      "Iteration 33, loss = 0.78890715\n",
      "Iteration 34, loss = 0.78850564\n",
      "Iteration 35, loss = 0.78811953\n",
      "Iteration 36, loss = 0.78783419\n",
      "Iteration 37, loss = 0.78763693\n",
      "Iteration 38, loss = 0.78725953\n",
      "Iteration 39, loss = 0.78700095\n",
      "Iteration 40, loss = 0.78669220\n",
      "Iteration 41, loss = 0.78634493\n",
      "Iteration 42, loss = 0.78611245\n",
      "Iteration 43, loss = 0.78576699\n",
      "Iteration 44, loss = 0.78561484\n",
      "Iteration 45, loss = 0.78538935\n",
      "Iteration 46, loss = 0.78501800\n",
      "Iteration 47, loss = 0.78489415\n",
      "Iteration 48, loss = 0.78454071\n",
      "Iteration 49, loss = 0.78448375\n",
      "Iteration 50, loss = 0.78421742\n",
      "Iteration 51, loss = 0.78399724\n",
      "Iteration 52, loss = 0.78379634\n",
      "Iteration 53, loss = 0.78365903\n",
      "Iteration 54, loss = 0.78340452\n",
      "Iteration 55, loss = 0.78320617\n",
      "Iteration 56, loss = 0.78309397\n",
      "Iteration 57, loss = 0.78288067\n",
      "Iteration 58, loss = 0.78270982\n",
      "Iteration 59, loss = 0.78257791\n",
      "Iteration 60, loss = 0.78249815\n",
      "Iteration 61, loss = 0.78234557\n",
      "Iteration 62, loss = 0.78228912\n",
      "Iteration 63, loss = 0.78203093\n",
      "Iteration 64, loss = 0.78189448\n",
      "Iteration 65, loss = 0.78164920\n",
      "Iteration 66, loss = 0.78156343\n",
      "Iteration 67, loss = 0.78167934\n",
      "Iteration 68, loss = 0.78129416\n",
      "Iteration 69, loss = 0.78123109\n",
      "Iteration 70, loss = 0.78115988\n",
      "Iteration 71, loss = 0.78096807\n",
      "Iteration 72, loss = 0.78087626\n",
      "Iteration 73, loss = 0.78072140\n",
      "Iteration 74, loss = 0.78056631\n",
      "Iteration 75, loss = 0.78053073\n",
      "Iteration 76, loss = 0.78041371\n",
      "Iteration 77, loss = 0.78038226\n",
      "Iteration 78, loss = 0.78022212\n",
      "Iteration 79, loss = 0.78010826\n",
      "Iteration 80, loss = 0.78004846\n",
      "Iteration 81, loss = 0.78002878\n",
      "Iteration 82, loss = 0.77982318\n",
      "Iteration 83, loss = 0.77971209\n",
      "Iteration 84, loss = 0.77959130\n",
      "Iteration 85, loss = 0.77958823\n",
      "Iteration 86, loss = 0.77949215\n",
      "Iteration 87, loss = 0.77932933\n",
      "Iteration 88, loss = 0.77929933\n",
      "Iteration 89, loss = 0.77919169\n",
      "Iteration 90, loss = 0.77913224\n",
      "Iteration 91, loss = 0.77900042\n",
      "Iteration 92, loss = 0.77883105\n",
      "Iteration 93, loss = 0.77896349\n",
      "Iteration 94, loss = 0.77869769\n",
      "Iteration 95, loss = 0.77879641\n",
      "Iteration 96, loss = 0.77859377\n",
      "Iteration 97, loss = 0.77855293\n",
      "Iteration 98, loss = 0.77851567\n",
      "Iteration 99, loss = 0.77838395\n",
      "Iteration 100, loss = 0.77836564\n",
      "Iteration 101, loss = 0.77820993\n",
      "Iteration 102, loss = 0.77811706\n",
      "Iteration 103, loss = 0.77805400\n",
      "Iteration 104, loss = 0.77794799\n",
      "Iteration 105, loss = 0.77789398\n",
      "Iteration 106, loss = 0.77792513\n",
      "Iteration 107, loss = 0.77775954\n",
      "Iteration 108, loss = 0.77779259\n",
      "Iteration 109, loss = 0.77775633\n",
      "Iteration 110, loss = 0.77772733\n",
      "Iteration 111, loss = 0.77764029\n",
      "Iteration 112, loss = 0.77764981\n",
      "Iteration 113, loss = 0.77736898\n",
      "Iteration 114, loss = 0.77731775\n",
      "Iteration 115, loss = 0.77732132\n",
      "Iteration 116, loss = 0.77721385\n",
      "Iteration 117, loss = 0.77721647\n",
      "Iteration 118, loss = 0.77713997\n",
      "Iteration 119, loss = 0.77712066\n",
      "Iteration 120, loss = 0.77712020\n",
      "Iteration 121, loss = 0.77706002\n",
      "Iteration 122, loss = 0.77699383\n",
      "Iteration 123, loss = 0.77683288\n",
      "Iteration 124, loss = 0.77682247\n",
      "Iteration 125, loss = 0.77678720\n",
      "Iteration 126, loss = 0.77667828\n",
      "Iteration 127, loss = 0.77665641\n",
      "Iteration 128, loss = 0.77654236\n",
      "Iteration 129, loss = 0.77657104\n",
      "Iteration 130, loss = 0.77645254\n",
      "Iteration 131, loss = 0.77649195\n",
      "Iteration 132, loss = 0.77647645\n",
      "Iteration 133, loss = 0.77638064\n",
      "Iteration 134, loss = 0.77630044\n",
      "Iteration 135, loss = 0.77614748\n",
      "Iteration 136, loss = 0.77610265\n",
      "Iteration 137, loss = 0.77610544\n",
      "Iteration 138, loss = 0.77601395\n",
      "Iteration 139, loss = 0.77603764\n",
      "Iteration 140, loss = 0.77592486\n",
      "Iteration 141, loss = 0.77590645\n",
      "Iteration 142, loss = 0.77586903\n",
      "Iteration 143, loss = 0.77591942\n",
      "Iteration 144, loss = 0.77575912\n",
      "Iteration 145, loss = 0.77567425\n",
      "Iteration 146, loss = 0.77577364\n",
      "Iteration 147, loss = 0.77565166\n",
      "Iteration 148, loss = 0.77575369\n",
      "Iteration 149, loss = 0.77557977\n",
      "Iteration 150, loss = 0.77564231\n",
      "Iteration 151, loss = 0.77544882\n",
      "Iteration 152, loss = 0.77544255\n",
      "Iteration 153, loss = 0.77535105\n",
      "Iteration 154, loss = 0.77532502\n",
      "Iteration 155, loss = 0.77527391\n",
      "Iteration 156, loss = 0.77512732\n",
      "Iteration 157, loss = 0.77520277\n",
      "Iteration 158, loss = 0.77526341\n",
      "Iteration 159, loss = 0.77512483\n",
      "Iteration 160, loss = 0.77506376\n",
      "Iteration 161, loss = 0.77500862\n",
      "Iteration 162, loss = 0.77502350\n",
      "Iteration 163, loss = 0.77495986\n",
      "Iteration 164, loss = 0.77486322\n",
      "Iteration 165, loss = 0.77492589\n",
      "Iteration 166, loss = 0.77479085\n",
      "Iteration 167, loss = 0.77489746\n",
      "Training loss did not improve more than tol=0.000100 for 10 consecutive epochs. Stopping.\n",
      "Iteration 1, loss = 0.93608497\n",
      "Iteration 2, loss = 0.84636183\n",
      "Iteration 3, loss = 0.83788478\n",
      "Iteration 4, loss = 0.83227733\n",
      "Iteration 5, loss = 0.82827005\n",
      "Iteration 6, loss = 0.82486690\n",
      "Iteration 7, loss = 0.82197561\n",
      "Iteration 8, loss = 0.81929346\n",
      "Iteration 9, loss = 0.81688118\n",
      "Iteration 10, loss = 0.81446633\n",
      "Iteration 11, loss = 0.81211934\n",
      "Iteration 12, loss = 0.81000843\n",
      "Iteration 13, loss = 0.80796696\n",
      "Iteration 14, loss = 0.80609493\n",
      "Iteration 15, loss = 0.80435020\n",
      "Iteration 16, loss = 0.80278998\n",
      "Iteration 17, loss = 0.80139376\n",
      "Iteration 18, loss = 0.80009303\n",
      "Iteration 19, loss = 0.79903728\n",
      "Iteration 20, loss = 0.79781212\n",
      "Iteration 21, loss = 0.79697213\n",
      "Iteration 22, loss = 0.79599253\n",
      "Iteration 23, loss = 0.79524749\n",
      "Iteration 24, loss = 0.79454524\n",
      "Iteration 25, loss = 0.79364359\n",
      "Iteration 26, loss = 0.79313940\n",
      "Iteration 27, loss = 0.79249416\n",
      "Iteration 28, loss = 0.79200248\n",
      "Iteration 29, loss = 0.79133654\n",
      "Iteration 30, loss = 0.79084214\n",
      "Iteration 31, loss = 0.79042351\n",
      "Iteration 32, loss = 0.78988438\n",
      "Iteration 33, loss = 0.78940834\n",
      "Iteration 34, loss = 0.78894511\n",
      "Iteration 35, loss = 0.78860566\n",
      "Iteration 36, loss = 0.78812778\n",
      "Iteration 37, loss = 0.78764548\n",
      "Iteration 38, loss = 0.78758266\n",
      "Iteration 39, loss = 0.78713034\n",
      "Iteration 40, loss = 0.78677756\n",
      "Iteration 41, loss = 0.78645030\n",
      "Iteration 42, loss = 0.78633339\n",
      "Iteration 43, loss = 0.78602076\n",
      "Iteration 44, loss = 0.78574926\n",
      "Iteration 45, loss = 0.78549396\n",
      "Iteration 46, loss = 0.78524963\n",
      "Iteration 47, loss = 0.78511310\n",
      "Iteration 48, loss = 0.78496242\n",
      "Iteration 49, loss = 0.78453294\n",
      "Iteration 50, loss = 0.78430911\n",
      "Iteration 51, loss = 0.78422391\n",
      "Iteration 52, loss = 0.78391291\n",
      "Iteration 53, loss = 0.78376951\n",
      "Iteration 54, loss = 0.78369374\n",
      "Iteration 55, loss = 0.78347957\n",
      "Iteration 56, loss = 0.78327383\n",
      "Iteration 57, loss = 0.78310970\n",
      "Iteration 58, loss = 0.78299996\n",
      "Iteration 59, loss = 0.78273645\n",
      "Iteration 60, loss = 0.78279593\n",
      "Iteration 61, loss = 0.78252758\n",
      "Iteration 62, loss = 0.78231507\n",
      "Iteration 63, loss = 0.78226429\n",
      "Iteration 64, loss = 0.78202476\n",
      "Iteration 65, loss = 0.78188533\n",
      "Iteration 66, loss = 0.78184677\n",
      "Iteration 67, loss = 0.78171009\n",
      "Iteration 68, loss = 0.78159711\n",
      "Iteration 69, loss = 0.78150092\n",
      "Iteration 70, loss = 0.78129421\n",
      "Iteration 71, loss = 0.78119751\n",
      "Iteration 72, loss = 0.78109163\n",
      "Iteration 73, loss = 0.78090648\n",
      "Iteration 74, loss = 0.78091617\n",
      "Iteration 75, loss = 0.78074610\n",
      "Iteration 76, loss = 0.78075637\n",
      "Iteration 77, loss = 0.78052592\n",
      "Iteration 78, loss = 0.78037686\n",
      "Iteration 79, loss = 0.78032400\n",
      "Iteration 80, loss = 0.78031437\n",
      "Iteration 81, loss = 0.78007591\n",
      "Iteration 82, loss = 0.77992794\n",
      "Iteration 83, loss = 0.77988077\n",
      "Iteration 84, loss = 0.77984554\n",
      "Iteration 85, loss = 0.77966468\n",
      "Iteration 86, loss = 0.77964892\n",
      "Iteration 87, loss = 0.77946825\n",
      "Iteration 88, loss = 0.77947060\n",
      "Iteration 89, loss = 0.77937029\n",
      "Iteration 90, loss = 0.77930434\n",
      "Iteration 91, loss = 0.77913013\n",
      "Iteration 92, loss = 0.77903053\n",
      "Iteration 93, loss = 0.77896864\n",
      "Iteration 94, loss = 0.77891582\n",
      "Iteration 95, loss = 0.77879447\n",
      "Iteration 96, loss = 0.77873330\n",
      "Iteration 97, loss = 0.77873335\n",
      "Iteration 98, loss = 0.77873056\n",
      "Iteration 99, loss = 0.77860048\n",
      "Iteration 100, loss = 0.77856091\n",
      "Iteration 101, loss = 0.77837896\n",
      "Iteration 102, loss = 0.77834300\n",
      "Iteration 103, loss = 0.77834366\n",
      "Iteration 104, loss = 0.77819315\n",
      "Iteration 105, loss = 0.77801816\n",
      "Iteration 106, loss = 0.77802801\n",
      "Iteration 107, loss = 0.77796197\n",
      "Iteration 108, loss = 0.77788248\n",
      "Iteration 109, loss = 0.77781912\n",
      "Iteration 110, loss = 0.77774746\n",
      "Iteration 111, loss = 0.77763502\n",
      "Iteration 112, loss = 0.77774636\n",
      "Iteration 113, loss = 0.77758091\n",
      "Iteration 114, loss = 0.77749490\n",
      "Iteration 115, loss = 0.77748969\n",
      "Iteration 116, loss = 0.77740519\n",
      "Iteration 117, loss = 0.77732202\n",
      "Iteration 118, loss = 0.77726724\n",
      "Iteration 119, loss = 0.77723553\n",
      "Iteration 120, loss = 0.77712209\n",
      "Iteration 121, loss = 0.77718276\n",
      "Iteration 122, loss = 0.77698958\n",
      "Iteration 123, loss = 0.77691670\n",
      "Iteration 124, loss = 0.77689060\n",
      "Iteration 125, loss = 0.77685187\n",
      "Iteration 126, loss = 0.77679448\n",
      "Iteration 127, loss = 0.77677901\n",
      "Iteration 128, loss = 0.77666733\n",
      "Iteration 129, loss = 0.77674429\n",
      "Iteration 130, loss = 0.77656356\n",
      "Iteration 131, loss = 0.77643814\n",
      "Iteration 132, loss = 0.77638579\n",
      "Iteration 133, loss = 0.77639983\n",
      "Iteration 134, loss = 0.77622714\n",
      "Iteration 135, loss = 0.77623685\n",
      "Iteration 136, loss = 0.77629386\n",
      "Iteration 137, loss = 0.77614753\n",
      "Iteration 138, loss = 0.77622727\n",
      "Iteration 139, loss = 0.77619860\n",
      "Iteration 140, loss = 0.77606373\n",
      "Iteration 141, loss = 0.77597465\n",
      "Iteration 142, loss = 0.77588481\n",
      "Iteration 143, loss = 0.77588742\n",
      "Iteration 144, loss = 0.77594562\n",
      "Iteration 145, loss = 0.77571790\n",
      "Iteration 146, loss = 0.77579315\n",
      "Iteration 147, loss = 0.77572954\n",
      "Iteration 148, loss = 0.77566803\n",
      "Iteration 149, loss = 0.77560769\n",
      "Iteration 150, loss = 0.77566242\n",
      "Iteration 151, loss = 0.77549672\n",
      "Iteration 152, loss = 0.77553043\n",
      "Iteration 153, loss = 0.77548321\n",
      "Iteration 154, loss = 0.77545784\n",
      "Iteration 155, loss = 0.77530614\n",
      "Iteration 156, loss = 0.77530558\n",
      "Iteration 157, loss = 0.77531708\n",
      "Iteration 158, loss = 0.77528778\n",
      "Iteration 159, loss = 0.77529120\n",
      "Iteration 160, loss = 0.77523790\n",
      "Iteration 161, loss = 0.77513008\n",
      "Iteration 162, loss = 0.77515530\n",
      "Iteration 163, loss = 0.77501596\n",
      "Iteration 164, loss = 0.77514918\n",
      "Iteration 165, loss = 0.77497382\n",
      "Iteration 166, loss = 0.77491694\n",
      "Iteration 167, loss = 0.77487554\n",
      "Iteration 168, loss = 0.77498261\n",
      "Iteration 169, loss = 0.77491705\n",
      "Iteration 170, loss = 0.77478839\n",
      "Iteration 171, loss = 0.77472771\n",
      "Iteration 172, loss = 0.77475293\n",
      "Iteration 173, loss = 0.77467190\n",
      "Iteration 174, loss = 0.77461574\n",
      "Training loss did not improve more than tol=0.000100 for 10 consecutive epochs. Stopping.\n"
     ]
    }
   ],
   "source": [
    "train_score = []\n",
    "valid_score = []\n",
    "it=3\n",
    "for i in range(it):\n",
    "  seed = np.random.randint(0,60000)\n",
    "  #divido en train y valid\n",
    "  X_train, X_valid, y_train, y_valid = train_test_split(df_concat[['text']], df_concat[['gold_label']], test_size=0.2, random_state=seed)\n",
    "  text_train = X_train[\"text\"].tolist()\n",
    "  text_valid = X_valid[\"text\"].tolist()\n",
    "  lab_train = y_train[\"gold_label\"].tolist()\n",
    "  lab_valid = y_valid[\"gold_label\"].tolist()\n",
    "  #armamos nuestro vocabulario\n",
    "  cv = CountVectorizer(min_df=100)\n",
    "  cv_train = cv.fit_transform(text_train)\n",
    "  cv_valid = cv.transform(text_valid)\n",
    "  #armamos nuestro modelo y lo entrenamos con el vocbulario de entrenamiento\n",
    "  clf = MLPClassifier(hidden_layer_sizes=(10,10,10), batch_size=1000, verbose=1)\n",
    "  clf.fit(X=cv_train, y=lab_train)\n",
    "  #guardamos los valores del score de train y test para cada iteración\n",
    "  train_score.append(clf.score(cv_train, lab_train))\n",
    "  valid_score.append(clf.score(cv_valid, lab_valid))"
   ]
  },
  {
   "cell_type": "code",
   "execution_count": null,
   "id": "wih1FRVYKwcV",
   "metadata": {
    "id": "wih1FRVYKwcV"
   },
   "outputs": [],
   "source": []
  },
  {
   "cell_type": "code",
   "execution_count": 11,
   "id": "VbygwL1Zj6bq",
   "metadata": {
    "colab": {
     "base_uri": "https://localhost:8080/"
    },
    "executionInfo": {
     "elapsed": 303,
     "status": "ok",
     "timestamp": 1633263718087,
     "user": {
      "displayName": "MARTINA BUNGE",
      "photoUrl": "https://lh3.googleusercontent.com/a/default-user=s64",
      "userId": "06668125805870524406"
     },
     "user_tz": 180
    },
    "id": "VbygwL1Zj6bq",
    "outputId": "9c90a899-4c0a-4142-b483-cdfbc3cdde7f"
   },
   "outputs": [
    {
     "name": "stdout",
     "output_type": "stream",
     "text": [
      "Scores para el entrenamiento: [0.6641057565712267, 0.6610903352281237, 0.6620470441494344]\n",
      "Scores para la validación: [0.6229055274404964, 0.6247563527118614, 0.6232274100963859]\n"
     ]
    }
   ],
   "source": [
    "print(f\"Scores para el entrenamiento: {train_score}\")\n",
    "print(f\"Scores para la validación: {valid_score}\") "
   ]
  },
  {
   "cell_type": "markdown",
   "id": "vKf1Judh5-LK",
   "metadata": {
    "id": "vKf1Judh5-LK"
   },
   "source": [
    "**Como podemos ver previamente en cada iteración la variación tanto del accuracy para el conjunto de entrenamiento como para el conjunto de validación es muy chica, por lo tanto, podemos utilizar el método de validación de Hold out, con los conjuntos establecidos inicialmente. Dichos conjuntos se separarán en sus clases y el texto a procesar, y serán convertidos a listas a continuación.**"
   ]
  },
  {
   "cell_type": "code",
   "execution_count": 6,
   "id": "bMunPWVkgqA2",
   "metadata": {
    "executionInfo": {
     "elapsed": 310,
     "status": "ok",
     "timestamp": 1633386149345,
     "user": {
      "displayName": "MARTINA BUNGE",
      "photoUrl": "https://lh3.googleusercontent.com/a/default-user=s64",
      "userId": "06668125805870524406"
     },
     "user_tz": 180
    },
    "id": "bMunPWVkgqA2"
   },
   "outputs": [],
   "source": [
    "text_train = df_train[\"text\"].tolist()\n",
    "labels_train = df_train[\"gold_label\"].tolist() \n",
    "text_val = df_valid[\"text\"].tolist()\n",
    "labels_val = df_valid[\"gold_label\"].tolist()\n",
    "text_test = df_test[\"text\"].tolist()"
   ]
  },
  {
   "cell_type": "markdown",
   "id": "yiXvJmuIIQaH",
   "metadata": {
    "id": "yiXvJmuIIQaH"
   },
   "source": [
    "## No hacemos preprocesamiento"
   ]
  },
  {
   "cell_type": "markdown",
   "id": "yV_AEUIiIU9K",
   "metadata": {
    "id": "yV_AEUIiIU9K"
   },
   "source": [
    "En el modelo de Naive Bayes se analizó que los tipos de preprocesamientos del vocabulario propuestos no ayudan a mejorar el score, por lo que inicialmente no se realizará el preprocesamiento de las frases, sino que únicamente se intentará ajustar parámetros estructurales del vocabulario (n-grams, df_min, df_max) e hiperparámetros de la red (Cantidad de capas y perceptrones por capa, función de activación, learning rate, etc) para intentar mejorar el score"
   ]
  },
  {
   "cell_type": "markdown",
   "id": "8bzSrTfCJhsj",
   "metadata": {
    "id": "8bzSrTfCJhsj"
   },
   "source": [
    "Inicialmente se entrenará una red con 3 capas ocultas, cada una con 10 perceptrones"
   ]
  },
  {
   "cell_type": "code",
   "execution_count": 14,
   "id": "hwj_hPzekQYF",
   "metadata": {
    "colab": {
     "base_uri": "https://localhost:8080/"
    },
    "executionInfo": {
     "elapsed": 2226482,
     "status": "ok",
     "timestamp": 1633300991168,
     "user": {
      "displayName": "MARTINA BUNGE",
      "photoUrl": "https://lh3.googleusercontent.com/a/default-user=s64",
      "userId": "06668125805870524406"
     },
     "user_tz": 180
    },
    "id": "hwj_hPzekQYF",
    "outputId": "616bd69a-f667-4ad1-b26e-d1aab02e4581"
   },
   "outputs": [
    {
     "name": "stdout",
     "output_type": "stream",
     "text": [
      "Iteration 1, loss = 0.83745453\n",
      "Iteration 2, loss = 0.76071949\n",
      "Iteration 3, loss = 0.73792241\n",
      "Iteration 4, loss = 0.72089942\n",
      "Iteration 5, loss = 0.70634243\n",
      "Iteration 6, loss = 0.69334119\n",
      "Iteration 7, loss = 0.68129249\n",
      "Iteration 8, loss = 0.67034378\n",
      "Iteration 9, loss = 0.66058259\n",
      "Iteration 10, loss = 0.65113474\n",
      "Iteration 11, loss = 0.64291424\n",
      "Iteration 12, loss = 0.63466885\n",
      "Iteration 13, loss = 0.62756650\n",
      "Iteration 14, loss = 0.62061550\n",
      "Iteration 15, loss = 0.61434307\n",
      "Iteration 16, loss = 0.60823784\n",
      "Iteration 17, loss = 0.60271892\n",
      "Iteration 18, loss = 0.59747325\n",
      "Iteration 19, loss = 0.59208299\n",
      "Iteration 20, loss = 0.58759134\n",
      "Iteration 21, loss = 0.58274771\n",
      "Iteration 22, loss = 0.57876875\n",
      "Iteration 23, loss = 0.57460701\n",
      "Iteration 24, loss = 0.57078950\n",
      "Iteration 25, loss = 0.56690757\n",
      "Iteration 26, loss = 0.56311766\n",
      "Iteration 27, loss = 0.56006701\n",
      "Iteration 28, loss = 0.55687200\n",
      "Iteration 29, loss = 0.55355185\n",
      "Iteration 30, loss = 0.55099054\n",
      "Iteration 31, loss = 0.54783352\n",
      "Iteration 32, loss = 0.54548294\n",
      "Iteration 33, loss = 0.54266896\n",
      "Iteration 34, loss = 0.53982261\n",
      "Iteration 35, loss = 0.53716256\n",
      "Iteration 36, loss = 0.53473728\n",
      "Iteration 37, loss = 0.53259776\n",
      "Iteration 38, loss = 0.53034074\n",
      "Iteration 39, loss = 0.52813354\n",
      "Iteration 40, loss = 0.52583223\n",
      "Iteration 41, loss = 0.52390070\n",
      "Iteration 42, loss = 0.52199296\n",
      "Iteration 43, loss = 0.52000703\n",
      "Iteration 44, loss = 0.51783265\n",
      "Iteration 45, loss = 0.51612225\n",
      "Iteration 46, loss = 0.51437599\n",
      "Iteration 47, loss = 0.51293725\n",
      "Iteration 48, loss = 0.51102822\n",
      "Iteration 49, loss = 0.50937853\n",
      "Iteration 50, loss = 0.50752857\n",
      "Iteration 51, loss = 0.50591439\n",
      "Iteration 52, loss = 0.50471614\n",
      "Iteration 53, loss = 0.50300257\n",
      "Iteration 54, loss = 0.50168214\n",
      "Iteration 55, loss = 0.50066345\n",
      "Iteration 56, loss = 0.49894385\n",
      "Iteration 57, loss = 0.49778933\n",
      "Iteration 58, loss = 0.49614721\n",
      "Iteration 59, loss = 0.49502019\n",
      "Iteration 60, loss = 0.49421362\n",
      "Iteration 61, loss = 0.49287026\n",
      "Iteration 62, loss = 0.49128858\n",
      "Iteration 63, loss = 0.49062332\n",
      "Iteration 64, loss = 0.48941668\n",
      "Iteration 65, loss = 0.48869678\n",
      "Iteration 66, loss = 0.48746574\n",
      "Iteration 67, loss = 0.48624657\n",
      "Iteration 68, loss = 0.48554871\n",
      "Iteration 69, loss = 0.48437090\n",
      "Iteration 70, loss = 0.48336939\n",
      "Iteration 71, loss = 0.48262729\n",
      "Iteration 72, loss = 0.48172580\n",
      "Iteration 73, loss = 0.48067798\n",
      "Iteration 74, loss = 0.47995549\n",
      "Iteration 75, loss = 0.47876091\n",
      "Iteration 76, loss = 0.47811738\n",
      "Iteration 77, loss = 0.47759821\n",
      "Iteration 78, loss = 0.47635377\n",
      "Iteration 79, loss = 0.47538563\n",
      "Iteration 80, loss = 0.47467580\n",
      "Iteration 81, loss = 0.47403771\n",
      "Iteration 82, loss = 0.47303037\n",
      "Iteration 83, loss = 0.47266135\n",
      "Iteration 84, loss = 0.47169662\n",
      "Iteration 85, loss = 0.47098521\n",
      "Iteration 86, loss = 0.47011853\n",
      "Iteration 87, loss = 0.46928943\n",
      "Iteration 88, loss = 0.46852789\n",
      "Iteration 89, loss = 0.46773994\n",
      "Iteration 90, loss = 0.46752440\n",
      "Iteration 91, loss = 0.46674846\n",
      "Iteration 92, loss = 0.46602347\n",
      "Iteration 93, loss = 0.46461711\n",
      "Iteration 94, loss = 0.46491595\n",
      "Iteration 95, loss = 0.46400899\n",
      "Iteration 96, loss = 0.46279865\n",
      "Iteration 97, loss = 0.46278654\n",
      "Iteration 98, loss = 0.46228682\n",
      "Iteration 99, loss = 0.46158137\n",
      "Iteration 100, loss = 0.46064043\n",
      "Iteration 101, loss = 0.46028877\n",
      "Iteration 102, loss = 0.45983215\n",
      "Iteration 103, loss = 0.45908218\n",
      "Iteration 104, loss = 0.45818846\n",
      "Iteration 105, loss = 0.45808457\n",
      "Iteration 106, loss = 0.45702710\n",
      "Iteration 107, loss = 0.45689686\n",
      "Iteration 108, loss = 0.45602558\n",
      "Iteration 109, loss = 0.45566071\n",
      "Iteration 110, loss = 0.45516734\n",
      "Iteration 111, loss = 0.45437155\n",
      "Iteration 112, loss = 0.45401405\n",
      "Iteration 113, loss = 0.45362280\n",
      "Iteration 114, loss = 0.45321724\n",
      "Iteration 115, loss = 0.45241653\n",
      "Iteration 116, loss = 0.45179393\n",
      "Iteration 117, loss = 0.45131037\n",
      "Iteration 118, loss = 0.45125594\n",
      "Iteration 119, loss = 0.45056968\n",
      "Iteration 120, loss = 0.44998960\n",
      "Iteration 121, loss = 0.44960177\n",
      "Iteration 122, loss = 0.44940872\n",
      "Iteration 123, loss = 0.44863756\n",
      "Iteration 124, loss = 0.44810848\n",
      "Iteration 125, loss = 0.44787942\n",
      "Iteration 126, loss = 0.44722901\n",
      "Iteration 127, loss = 0.44692182\n",
      "Iteration 128, loss = 0.44617804\n",
      "Iteration 129, loss = 0.44621634\n",
      "Iteration 130, loss = 0.44537989\n",
      "Iteration 131, loss = 0.44475026\n",
      "Iteration 132, loss = 0.44487474\n",
      "Iteration 133, loss = 0.44434707\n",
      "Iteration 134, loss = 0.44361857\n",
      "Iteration 135, loss = 0.44341455\n",
      "Iteration 136, loss = 0.44360737\n",
      "Iteration 137, loss = 0.44234246\n",
      "Iteration 138, loss = 0.44193959\n",
      "Iteration 139, loss = 0.44206008\n",
      "Iteration 140, loss = 0.44102256\n",
      "Iteration 141, loss = 0.44109376\n",
      "Iteration 142, loss = 0.44083984\n",
      "Iteration 143, loss = 0.44049004\n",
      "Iteration 144, loss = 0.43938843\n",
      "Iteration 145, loss = 0.43971700\n",
      "Iteration 146, loss = 0.43917914\n",
      "Iteration 147, loss = 0.43867267\n",
      "Iteration 148, loss = 0.43855892\n",
      "Iteration 149, loss = 0.43777684\n",
      "Iteration 150, loss = 0.43763198\n",
      "Iteration 151, loss = 0.43760709\n",
      "Iteration 152, loss = 0.43672260\n",
      "Iteration 153, loss = 0.43724145\n",
      "Iteration 154, loss = 0.43652709\n",
      "Iteration 155, loss = 0.43615357\n",
      "Iteration 156, loss = 0.43596203\n",
      "Iteration 157, loss = 0.43533808\n",
      "Iteration 158, loss = 0.43512417\n",
      "Iteration 159, loss = 0.43472673\n",
      "Iteration 160, loss = 0.43426479\n",
      "Iteration 161, loss = 0.43413327\n",
      "Iteration 162, loss = 0.43365105\n",
      "Iteration 163, loss = 0.43349635\n",
      "Iteration 164, loss = 0.43313663\n",
      "Iteration 165, loss = 0.43287889\n",
      "Iteration 166, loss = 0.43296427\n",
      "Iteration 167, loss = 0.43258826\n",
      "Iteration 168, loss = 0.43203043\n",
      "Iteration 169, loss = 0.43164826\n",
      "Iteration 170, loss = 0.43131542\n",
      "Iteration 171, loss = 0.43072218\n",
      "Iteration 172, loss = 0.43099575\n",
      "Iteration 173, loss = 0.43042364\n",
      "Iteration 174, loss = 0.43010624\n",
      "Iteration 175, loss = 0.42979961\n",
      "Iteration 176, loss = 0.42965846\n",
      "Iteration 177, loss = 0.42910743\n",
      "Iteration 178, loss = 0.42904131\n",
      "Iteration 179, loss = 0.42895203\n",
      "Iteration 180, loss = 0.42859222\n",
      "Iteration 181, loss = 0.42824111\n",
      "Iteration 182, loss = 0.42833432\n",
      "Iteration 183, loss = 0.42768729\n",
      "Iteration 184, loss = 0.42792962\n",
      "Iteration 185, loss = 0.42752254\n",
      "Iteration 186, loss = 0.42717302\n",
      "Iteration 187, loss = 0.42641704\n",
      "Iteration 188, loss = 0.42641543\n",
      "Iteration 189, loss = 0.42653350\n",
      "Iteration 190, loss = 0.42574384\n",
      "Iteration 191, loss = 0.42620639\n",
      "Iteration 192, loss = 0.42509848\n",
      "Iteration 193, loss = 0.42508536\n",
      "Iteration 194, loss = 0.42496427\n",
      "Iteration 195, loss = 0.42506699\n",
      "Iteration 196, loss = 0.42466114\n",
      "Iteration 197, loss = 0.42411785\n",
      "Iteration 198, loss = 0.42378937\n",
      "Iteration 199, loss = 0.42410550\n",
      "Iteration 200, loss = 0.42331722\n"
     ]
    },
    {
     "name": "stderr",
     "output_type": "stream",
     "text": [
      "/usr/local/lib/python3.7/dist-packages/sklearn/neural_network/_multilayer_perceptron.py:571: ConvergenceWarning: Stochastic Optimizer: Maximum iterations (200) reached and the optimization hasn't converged yet.\n",
      "  % self.max_iter, ConvergenceWarning)\n"
     ]
    },
    {
     "data": {
      "text/plain": [
       "MLPClassifier(activation='relu', alpha=1e-10, batch_size=300, beta_1=0.9,\n",
       "              beta_2=0.999, early_stopping=False, epsilon=1e-08,\n",
       "              hidden_layer_sizes=(10, 10, 10), learning_rate='constant',\n",
       "              learning_rate_init=0.001, max_fun=15000, max_iter=200,\n",
       "              momentum=0.9, n_iter_no_change=10, nesterovs_momentum=True,\n",
       "              power_t=0.5, random_state=None, shuffle=True, solver='adam',\n",
       "              tol=0.0001, validation_fraction=0.1, verbose=1, warm_start=False)"
      ]
     },
     "execution_count": 14,
     "metadata": {},
     "output_type": "execute_result"
    }
   ],
   "source": [
    "\n",
    "text_train = df_train[\"text\"].tolist()\n",
    "labels_train = df_train[\"gold_label\"].tolist() \n",
    "text_val = df_valid[\"text\"].tolist()\n",
    "labels_val = df_valid[\"gold_label\"].tolist()\n",
    "text_test = df_test[\"text\"].tolist()\n",
    "#armamos nuestro vocabulario\n",
    "cv = CountVectorizer(min_df=20, ngram_range = (1,2)) \n",
    "cv_train = cv.fit_transform(text_train)\n",
    "cv_valid = cv.transform(text_val)\n",
    "#armamos nuestro modelo y lo entrenamos con el vocbulario de entrenamiento\n",
    "clf = MLPClassifier(hidden_layer_sizes=(10,10,10),alpha=1e-10, batch_size=300, verbose=1)\n",
    "clf.fit(cv_train, labels_train)"
   ]
  },
  {
   "cell_type": "code",
   "execution_count": 16,
   "id": "aRhRVxkoK2Cl",
   "metadata": {
    "colab": {
     "base_uri": "https://localhost:8080/"
    },
    "executionInfo": {
     "elapsed": 1270,
     "status": "ok",
     "timestamp": 1633301897576,
     "user": {
      "displayName": "MARTINA BUNGE",
      "photoUrl": "https://lh3.googleusercontent.com/a/default-user=s64",
      "userId": "06668125805870524406"
     },
     "user_tz": 180
    },
    "id": "aRhRVxkoK2Cl",
    "outputId": "0b4da40f-77c1-42db-d604-22118357dc52"
   },
   "outputs": [
    {
     "name": "stdout",
     "output_type": "stream",
     "text": [
      "0.8418234076673698\n",
      "0.61003861003861\n"
     ]
    }
   ],
   "source": [
    "print(clf.score(cv_train, labels_train))\n",
    "print(clf.score(cv_valid, labels_val))"
   ]
  },
  {
   "cell_type": "markdown",
   "id": "C-9e9L5GY9H0",
   "metadata": {
    "id": "C-9e9L5GY9H0"
   },
   "source": [
    "Se vé que llega a overfittear así que disminuímos la cantidad de iteraciones"
   ]
  },
  {
   "cell_type": "code",
   "execution_count": 17,
   "id": "p4THrd6nKern",
   "metadata": {
    "colab": {
     "base_uri": "https://localhost:8080/"
    },
    "executionInfo": {
     "elapsed": 1449614,
     "status": "ok",
     "timestamp": 1633303622262,
     "user": {
      "displayName": "MARTINA BUNGE",
      "photoUrl": "https://lh3.googleusercontent.com/a/default-user=s64",
      "userId": "06668125805870524406"
     },
     "user_tz": 180
    },
    "id": "p4THrd6nKern",
    "outputId": "788a2e96-d6c0-4004-d098-43b3c3c6d4fe"
   },
   "outputs": [
    {
     "name": "stdout",
     "output_type": "stream",
     "text": [
      "Iteration 1, loss = 0.83774259\n",
      "Iteration 2, loss = 0.76402875\n",
      "Iteration 3, loss = 0.74344423\n",
      "Iteration 4, loss = 0.72736909\n",
      "Iteration 5, loss = 0.71365951\n",
      "Iteration 6, loss = 0.70050825\n",
      "Iteration 7, loss = 0.68802369\n",
      "Iteration 8, loss = 0.67656187\n",
      "Iteration 9, loss = 0.66546039\n",
      "Iteration 10, loss = 0.65520799\n",
      "Iteration 11, loss = 0.64554202\n",
      "Iteration 12, loss = 0.63654507\n",
      "Iteration 13, loss = 0.62837128\n",
      "Iteration 14, loss = 0.62025354\n",
      "Iteration 15, loss = 0.61327836\n",
      "Iteration 16, loss = 0.60645760\n",
      "Iteration 17, loss = 0.60019750\n",
      "Iteration 18, loss = 0.59441081\n",
      "Iteration 19, loss = 0.58877511\n",
      "Iteration 20, loss = 0.58332434\n",
      "Iteration 21, loss = 0.57833657\n",
      "Iteration 22, loss = 0.57379980\n",
      "Iteration 23, loss = 0.56961963\n",
      "Iteration 24, loss = 0.56502125\n",
      "Iteration 25, loss = 0.56116818\n",
      "Iteration 26, loss = 0.55755554\n",
      "Iteration 27, loss = 0.55354097\n",
      "Iteration 28, loss = 0.55028321\n",
      "Iteration 29, loss = 0.54702838\n",
      "Iteration 30, loss = 0.54373443\n",
      "Iteration 31, loss = 0.54055280\n",
      "Iteration 32, loss = 0.53771053\n",
      "Iteration 33, loss = 0.53516302\n",
      "Iteration 34, loss = 0.53266863\n",
      "Iteration 35, loss = 0.52967011\n",
      "Iteration 36, loss = 0.52747063\n",
      "Iteration 37, loss = 0.52499613\n",
      "Iteration 38, loss = 0.52274881\n",
      "Iteration 39, loss = 0.52033787\n",
      "Iteration 40, loss = 0.51824661\n",
      "Iteration 41, loss = 0.51620137\n",
      "Iteration 42, loss = 0.51409469\n",
      "Iteration 43, loss = 0.51227789\n",
      "Iteration 44, loss = 0.51036340\n",
      "Iteration 45, loss = 0.50872839\n",
      "Iteration 46, loss = 0.50671591\n",
      "Iteration 47, loss = 0.50504156\n",
      "Iteration 48, loss = 0.50328253\n",
      "Iteration 49, loss = 0.50207880\n",
      "Iteration 50, loss = 0.50041381\n",
      "Iteration 51, loss = 0.49862858\n",
      "Iteration 52, loss = 0.49747121\n",
      "Iteration 53, loss = 0.49551996\n",
      "Iteration 54, loss = 0.49449108\n",
      "Iteration 55, loss = 0.49306792\n",
      "Iteration 56, loss = 0.49172807\n",
      "Iteration 57, loss = 0.49046044\n",
      "Iteration 58, loss = 0.48908018\n",
      "Iteration 59, loss = 0.48795708\n",
      "Iteration 60, loss = 0.48683457\n",
      "Iteration 61, loss = 0.48491863\n",
      "Iteration 62, loss = 0.48462337\n",
      "Iteration 63, loss = 0.48334096\n",
      "Iteration 64, loss = 0.48191250\n",
      "Iteration 65, loss = 0.48084815\n",
      "Iteration 66, loss = 0.47970640\n",
      "Iteration 67, loss = 0.47920946\n",
      "Iteration 68, loss = 0.47778831\n",
      "Iteration 69, loss = 0.47704562\n",
      "Iteration 70, loss = 0.47603024\n",
      "Iteration 71, loss = 0.47447291\n",
      "Iteration 72, loss = 0.47399541\n",
      "Iteration 73, loss = 0.47328411\n",
      "Iteration 74, loss = 0.47194421\n",
      "Iteration 75, loss = 0.47126617\n",
      "Iteration 76, loss = 0.47028730\n",
      "Iteration 77, loss = 0.46941037\n",
      "Iteration 78, loss = 0.46898345\n",
      "Iteration 79, loss = 0.46774405\n",
      "Iteration 80, loss = 0.46689440\n",
      "Iteration 81, loss = 0.46611793\n",
      "Iteration 82, loss = 0.46541607\n",
      "Iteration 83, loss = 0.46501204\n",
      "Iteration 84, loss = 0.46348521\n",
      "Iteration 85, loss = 0.46309605\n",
      "Iteration 86, loss = 0.46242229\n",
      "Iteration 87, loss = 0.46168009\n",
      "Iteration 88, loss = 0.46108465\n",
      "Iteration 89, loss = 0.46016240\n",
      "Iteration 90, loss = 0.45986713\n",
      "Iteration 91, loss = 0.45884053\n",
      "Iteration 92, loss = 0.45831017\n",
      "Iteration 93, loss = 0.45773874\n",
      "Iteration 94, loss = 0.45715146\n",
      "Iteration 95, loss = 0.45669539\n",
      "Iteration 96, loss = 0.45580963\n",
      "Iteration 97, loss = 0.45544284\n",
      "Iteration 98, loss = 0.45476746\n",
      "Iteration 99, loss = 0.45425545\n",
      "Iteration 100, loss = 0.45339912\n"
     ]
    },
    {
     "name": "stderr",
     "output_type": "stream",
     "text": [
      "/usr/local/lib/python3.7/dist-packages/sklearn/neural_network/_multilayer_perceptron.py:571: ConvergenceWarning: Stochastic Optimizer: Maximum iterations (100) reached and the optimization hasn't converged yet.\n",
      "  % self.max_iter, ConvergenceWarning)\n"
     ]
    },
    {
     "data": {
      "text/plain": [
       "MLPClassifier(activation='relu', alpha=1e-10, batch_size=300, beta_1=0.9,\n",
       "              beta_2=0.999, early_stopping=False, epsilon=1e-08,\n",
       "              hidden_layer_sizes=(10, 10, 10), learning_rate='constant',\n",
       "              learning_rate_init=0.001, max_fun=15000, max_iter=100,\n",
       "              momentum=0.9, n_iter_no_change=10, nesterovs_momentum=True,\n",
       "              power_t=0.5, random_state=None, shuffle=True, solver='adam',\n",
       "              tol=0.0001, validation_fraction=0.1, verbose=1, warm_start=False)"
      ]
     },
     "execution_count": 17,
     "metadata": {},
     "output_type": "execute_result"
    }
   ],
   "source": [
    "cv = CountVectorizer(min_df=20, ngram_range = (1,2)) \n",
    "cv_train = cv.fit_transform(text_train)\n",
    "cv_valid = cv.transform(text_val)\n",
    "#armamos nuestro modelo y lo entrenamos con el vocbulario de entrenamiento\n",
    "clf = MLPClassifier(hidden_layer_sizes=(10,10,10),max_iter=100,alpha=1e-10, batch_size=300, verbose=1)\n",
    "clf.fit(cv_train, labels_train)"
   ]
  },
  {
   "cell_type": "code",
   "execution_count": 18,
   "id": "I8BgqPh-SlTO",
   "metadata": {
    "colab": {
     "base_uri": "https://localhost:8080/"
    },
    "executionInfo": {
     "elapsed": 1060,
     "status": "ok",
     "timestamp": 1633303625612,
     "user": {
      "displayName": "MARTINA BUNGE",
      "photoUrl": "https://lh3.googleusercontent.com/a/default-user=s64",
      "userId": "06668125805870524406"
     },
     "user_tz": 180
    },
    "id": "I8BgqPh-SlTO",
    "outputId": "02777411-d118-4a40-bbf2-b8b14a2cac94"
   },
   "outputs": [
    {
     "name": "stdout",
     "output_type": "stream",
     "text": [
      "0.8246709394630547\n",
      "0.6160333265596424\n"
     ]
    }
   ],
   "source": [
    "print(clf.score(cv_train, labels_train))\n",
    "print(clf.score(cv_valid, labels_val))"
   ]
  },
  {
   "cell_type": "markdown",
   "id": "z53ldXyf2Gm8",
   "metadata": {
    "id": "z53ldXyf2Gm8"
   },
   "source": [
    "Como sigue Overfitteando le aplicamos Early Stopping par que si el Score del Test comienza a bajar, el modelo deje de entrenar."
   ]
  },
  {
   "cell_type": "code",
   "execution_count": 22,
   "id": "OjpIoNqjceL1",
   "metadata": {
    "colab": {
     "base_uri": "https://localhost:8080/"
    },
    "executionInfo": {
     "elapsed": 206124,
     "status": "ok",
     "timestamp": 1633304265265,
     "user": {
      "displayName": "MARTINA BUNGE",
      "photoUrl": "https://lh3.googleusercontent.com/a/default-user=s64",
      "userId": "06668125805870524406"
     },
     "user_tz": 180
    },
    "id": "OjpIoNqjceL1",
    "outputId": "ba215bb2-8ce0-46e8-ed58-98f9dc8b2f2a"
   },
   "outputs": [
    {
     "name": "stdout",
     "output_type": "stream",
     "text": [
      "Iteration 1, loss = 0.85304142\n",
      "Validation score: 0.650236\n",
      "Iteration 2, loss = 0.76413698\n",
      "Validation score: 0.655606\n",
      "Iteration 3, loss = 0.74212184\n",
      "Validation score: 0.656115\n",
      "Iteration 4, loss = 0.72590926\n",
      "Validation score: 0.653494\n",
      "Iteration 5, loss = 0.71128290\n",
      "Validation score: 0.653130\n",
      "Iteration 6, loss = 0.69803032\n",
      "Validation score: 0.651146\n",
      "Iteration 7, loss = 0.68556013\n",
      "Validation score: 0.647469\n",
      "Iteration 8, loss = 0.67396075\n",
      "Validation score: 0.645831\n",
      "Iteration 9, loss = 0.66297524\n",
      "Validation score: 0.645903\n",
      "Iteration 10, loss = 0.65293088\n",
      "Validation score: 0.640971\n",
      "Iteration 11, loss = 0.64337274\n",
      "Validation score: 0.638932\n",
      "Iteration 12, loss = 0.63424400\n",
      "Validation score: 0.639205\n",
      "Iteration 13, loss = 0.62600839\n",
      "Validation score: 0.637567\n",
      "Iteration 14, loss = 0.61805013\n",
      "Validation score: 0.635564\n",
      "Validation score did not improve more than tol=0.000100 for 10 consecutive epochs. Stopping.\n"
     ]
    },
    {
     "data": {
      "text/plain": [
       "MLPClassifier(activation='relu', alpha=1e-10, batch_size=300, beta_1=0.9,\n",
       "              beta_2=0.999, early_stopping=True, epsilon=1e-08,\n",
       "              hidden_layer_sizes=(10, 10, 10), learning_rate='constant',\n",
       "              learning_rate_init=0.001, max_fun=15000, max_iter=50,\n",
       "              momentum=0.9, n_iter_no_change=10, nesterovs_momentum=True,\n",
       "              power_t=0.5, random_state=None, shuffle=True, solver='adam',\n",
       "              tol=0.0001, validation_fraction=0.1, verbose=1, warm_start=False)"
      ]
     },
     "execution_count": 22,
     "metadata": {},
     "output_type": "execute_result"
    }
   ],
   "source": [
    "cv = CountVectorizer(min_df=20, ngram_range = (1,2)) \n",
    "cv_train = cv.fit_transform(text_train)\n",
    "cv_valid = cv.transform(text_val)\n",
    "#armamos nuestro modelo y lo entrenamos con el vocbulario de entrenamiento\n",
    "clf = MLPClassifier(hidden_layer_sizes=(10,10,10),max_iter=50,alpha=1e-10, batch_size=300, verbose=1, early_stopping=True )\n",
    "clf.fit(cv_train, labels_train)"
   ]
  },
  {
   "cell_type": "code",
   "execution_count": 21,
   "id": "qZzgYmZSe8Yb",
   "metadata": {
    "colab": {
     "base_uri": "https://localhost:8080/"
    },
    "executionInfo": {
     "elapsed": 1490,
     "status": "ok",
     "timestamp": 1633304016394,
     "user": {
      "displayName": "MARTINA BUNGE",
      "photoUrl": "https://lh3.googleusercontent.com/a/default-user=s64",
      "userId": "06668125805870524406"
     },
     "user_tz": 180
    },
    "id": "qZzgYmZSe8Yb",
    "outputId": "528f451c-dbc2-4ea1-9272-fb02bbb23fb4"
   },
   "outputs": [
    {
     "name": "stdout",
     "output_type": "stream",
     "text": [
      "0.695418545344005\n",
      "0.6595204226783175\n"
     ]
    }
   ],
   "source": [
    "print(clf.score(cv_train, labels_train))\n",
    "print(clf.score(cv_valid, labels_val))"
   ]
  },
  {
   "cell_type": "markdown",
   "id": "gvPMSibp2wOU",
   "metadata": {
    "id": "gvPMSibp2wOU"
   },
   "source": [
    "Podemos ver que con n-grams=(1,2) y aplicando Early Stopping mejora el Validation Accuracy"
   ]
  },
  {
   "cell_type": "markdown",
   "id": "UfNU538G3V9s",
   "metadata": {
    "id": "UfNU538G3V9s"
   },
   "source": [
    "No se intentará entrenar el modelo con n-grams=(1,2,3), ya que esto tardará demaasiado en correr"
   ]
  },
  {
   "cell_type": "markdown",
   "id": "HvJcy2xTCZ0f",
   "metadata": {
    "id": "HvJcy2xTCZ0f"
   },
   "source": [
    "### Variando min_df y max_df:\n",
    "\n",
    "---\n",
    "\n",
    "\n"
   ]
  },
  {
   "cell_type": "code",
   "execution_count": 6,
   "id": "EyPZ6R-L3g3r",
   "metadata": {
    "colab": {
     "base_uri": "https://localhost:8080/"
    },
    "executionInfo": {
     "elapsed": 285230,
     "status": "ok",
     "timestamp": 1633310722127,
     "user": {
      "displayName": "MARTINA BUNGE",
      "photoUrl": "https://lh3.googleusercontent.com/a/default-user=s64",
      "userId": "06668125805870524406"
     },
     "user_tz": 180
    },
    "id": "EyPZ6R-L3g3r",
    "outputId": "10a7aaf1-2c45-4a8d-f7cd-ba122a3a626e"
   },
   "outputs": [
    {
     "name": "stdout",
     "output_type": "stream",
     "text": [
      "Iteration 1, loss = 0.86557343\n",
      "Validation score: 0.654677\n",
      "Iteration 2, loss = 0.74731671\n",
      "Validation score: 0.656752\n",
      "Iteration 3, loss = 0.71301106\n",
      "Validation score: 0.656497\n",
      "Iteration 4, loss = 0.68625771\n",
      "Validation score: 0.656115\n",
      "Iteration 5, loss = 0.66225375\n",
      "Validation score: 0.652821\n",
      "Iteration 6, loss = 0.63998812\n",
      "Validation score: 0.648579\n",
      "Iteration 7, loss = 0.61886940\n",
      "Validation score: 0.647742\n",
      "Iteration 8, loss = 0.59882145\n",
      "Validation score: 0.643847\n",
      "Iteration 9, loss = 0.58003091\n",
      "Validation score: 0.641608\n",
      "Iteration 10, loss = 0.56243522\n",
      "Validation score: 0.636729\n",
      "Iteration 11, loss = 0.54648067\n",
      "Validation score: 0.633016\n",
      "Iteration 12, loss = 0.53164802\n",
      "Validation score: 0.630559\n",
      "Iteration 13, loss = 0.51805761\n",
      "Validation score: 0.630286\n",
      "Validation score did not improve more than tol=0.000100 for 10 consecutive epochs. Stopping.\n"
     ]
    },
    {
     "data": {
      "text/plain": [
       "MLPClassifier(activation='relu', alpha=1e-10, batch_size=300, beta_1=0.9,\n",
       "              beta_2=0.999, early_stopping=True, epsilon=1e-08,\n",
       "              hidden_layer_sizes=(10, 10, 10), learning_rate='constant',\n",
       "              learning_rate_init=0.001, max_fun=15000, max_iter=50,\n",
       "              momentum=0.9, n_iter_no_change=10, nesterovs_momentum=True,\n",
       "              power_t=0.5, random_state=None, shuffle=True, solver='adam',\n",
       "              tol=0.0001, validation_fraction=0.1, verbose=1, warm_start=False)"
      ]
     },
     "execution_count": 6,
     "metadata": {},
     "output_type": "execute_result"
    }
   ],
   "source": [
    "cv = CountVectorizer(min_df=10, ngram_range = (1,2)) \n",
    "cv_train = cv.fit_transform(text_train)\n",
    "cv_valid = cv.transform(text_val)\n",
    "clf = MLPClassifier(hidden_layer_sizes=(10,10,10),max_iter=50,alpha=1e-10, batch_size=300, verbose=1, early_stopping=True)\n",
    "clf.fit(cv_train, labels_train)"
   ]
  },
  {
   "cell_type": "code",
   "execution_count": 7,
   "id": "j46qT9RA591O",
   "metadata": {
    "colab": {
     "base_uri": "https://localhost:8080/"
    },
    "executionInfo": {
     "elapsed": 1186,
     "status": "ok",
     "timestamp": 1633310742771,
     "user": {
      "displayName": "MARTINA BUNGE",
      "photoUrl": "https://lh3.googleusercontent.com/a/default-user=s64",
      "userId": "06668125805870524406"
     },
     "user_tz": 180
    },
    "id": "j46qT9RA591O",
    "outputId": "fa54f3e0-c2bd-46e7-ede0-b837990fd36e"
   },
   "outputs": [
    {
     "name": "stdout",
     "output_type": "stream",
     "text": [
      "0.7007974632622637\n",
      "0.6635846372688478\n"
     ]
    }
   ],
   "source": [
    "print(clf.score(cv_train, labels_train))\n",
    "print(clf.score(cv_valid, labels_val))"
   ]
  },
  {
   "cell_type": "code",
   "execution_count": 30,
   "id": "pUBeER736ILB",
   "metadata": {
    "colab": {
     "base_uri": "https://localhost:8080/"
    },
    "executionInfo": {
     "elapsed": 476803,
     "status": "ok",
     "timestamp": 1633318922638,
     "user": {
      "displayName": "MARTINA BUNGE",
      "photoUrl": "https://lh3.googleusercontent.com/a/default-user=s64",
      "userId": "06668125805870524406"
     },
     "user_tz": 180
    },
    "id": "pUBeER736ILB",
    "outputId": "78696cdc-208e-4ac1-8d20-c345aa3436c2"
   },
   "outputs": [
    {
     "name": "stdout",
     "output_type": "stream",
     "text": [
      "Iteration 1, loss = 0.83422967\n",
      "Validation score: 0.654149\n",
      "Iteration 2, loss = 0.72442467\n",
      "Validation score: 0.656825\n",
      "Iteration 3, loss = 0.67617434\n",
      "Validation score: 0.654331\n",
      "Iteration 4, loss = 0.63888778\n",
      "Validation score: 0.650181\n",
      "Iteration 5, loss = 0.60612770\n",
      "Validation score: 0.646777\n",
      "Iteration 6, loss = 0.57526727\n",
      "Validation score: 0.642663\n",
      "Iteration 7, loss = 0.54586846\n",
      "Validation score: 0.639241\n",
      "Iteration 8, loss = 0.51905961\n",
      "Validation score: 0.635401\n",
      "Iteration 9, loss = 0.49315406\n",
      "Validation score: 0.630832\n",
      "Iteration 10, loss = 0.47039289\n",
      "Validation score: 0.630577\n",
      "Iteration 11, loss = 0.44895231\n",
      "Validation score: 0.626882\n",
      "Iteration 12, loss = 0.43064936\n",
      "Validation score: 0.627155\n",
      "Iteration 13, loss = 0.41418631\n",
      "Validation score: 0.623241\n",
      "Validation score did not improve more than tol=0.000100 for 10 consecutive epochs. Stopping.\n"
     ]
    },
    {
     "data": {
      "text/plain": [
       "MLPClassifier(activation='relu', alpha=1e-10, batch_size=300, beta_1=0.9,\n",
       "              beta_2=0.999, early_stopping=True, epsilon=1e-08,\n",
       "              hidden_layer_sizes=(10, 10, 10), learning_rate='constant',\n",
       "              learning_rate_init=0.001, max_fun=15000, max_iter=50,\n",
       "              momentum=0.9, n_iter_no_change=10, nesterovs_momentum=True,\n",
       "              power_t=0.5, random_state=None, shuffle=True, solver='adam',\n",
       "              tol=0.0001, validation_fraction=0.1, verbose=1, warm_start=False)"
      ]
     },
     "execution_count": 30,
     "metadata": {},
     "output_type": "execute_result"
    }
   ],
   "source": [
    "cv = CountVectorizer(min_df=5, ngram_range = (1,2)) \n",
    "cv_train = cv.fit_transform(text_train)\n",
    "cv_valid = cv.transform(text_val)\n",
    "clf = MLPClassifier(hidden_layer_sizes=(10,10,10),max_iter=50,alpha=1e-10, batch_size=300, verbose=1, early_stopping=True)\n",
    "clf.fit(cv_train, labels_train)"
   ]
  },
  {
   "cell_type": "code",
   "execution_count": 31,
   "id": "tdlFe4EU8DO2",
   "metadata": {
    "colab": {
     "base_uri": "https://localhost:8080/"
    },
    "executionInfo": {
     "elapsed": 1172,
     "status": "ok",
     "timestamp": 1633318939989,
     "user": {
      "displayName": "MARTINA BUNGE",
      "photoUrl": "https://lh3.googleusercontent.com/a/default-user=s64",
      "userId": "06668125805870524406"
     },
     "user_tz": 180
    },
    "id": "tdlFe4EU8DO2",
    "outputId": "c20aae1e-a2ae-4259-bfe7-1fcc2b8d3228"
   },
   "outputs": [
    {
     "name": "stdout",
     "output_type": "stream",
     "text": [
      "0.722784586624242\n",
      "0.6607396870554765\n"
     ]
    }
   ],
   "source": [
    "print(clf.score(cv_train, labels_train))\n",
    "print(clf.score(cv_valid, labels_val))"
   ]
  },
  {
   "cell_type": "code",
   "execution_count": null,
   "id": "kyJsGVYcSEdv",
   "metadata": {
    "id": "kyJsGVYcSEdv"
   },
   "outputs": [],
   "source": [
    "print(clf.score(cv_valid, labels_val))"
   ]
  },
  {
   "cell_type": "code",
   "execution_count": 10,
   "id": "Z-u40-hz8ITk",
   "metadata": {
    "colab": {
     "base_uri": "https://localhost:8080/"
    },
    "executionInfo": {
     "elapsed": 2102297,
     "status": "ok",
     "timestamp": 1633313415827,
     "user": {
      "displayName": "MARTINA BUNGE",
      "photoUrl": "https://lh3.googleusercontent.com/a/default-user=s64",
      "userId": "06668125805870524406"
     },
     "user_tz": 180
    },
    "id": "Z-u40-hz8ITk",
    "outputId": "d9135978-02db-4333-c7c5-be697ae48b2f"
   },
   "outputs": [
    {
     "name": "stdout",
     "output_type": "stream",
     "text": [
      "Iteration 1, loss = 0.83443676\n",
      "Validation score: 0.657499\n",
      "Iteration 2, loss = 0.64670872\n",
      "Validation score: 0.650181\n",
      "Iteration 3, loss = 0.52068919\n",
      "Validation score: 0.640188\n",
      "Iteration 4, loss = 0.44094559\n",
      "Validation score: 0.631997\n",
      "Iteration 5, loss = 0.39087037\n",
      "Validation score: 0.624716\n",
      "Iteration 6, loss = 0.35759449\n",
      "Validation score: 0.622185\n",
      "Iteration 7, loss = 0.33302283\n",
      "Validation score: 0.620638\n",
      "Iteration 8, loss = 0.31442518\n",
      "Validation score: 0.617689\n",
      "Iteration 9, loss = 0.29805723\n",
      "Validation score: 0.614759\n",
      "Iteration 10, loss = 0.28585299\n",
      "Validation score: 0.616907\n",
      "Iteration 11, loss = 0.27482704\n",
      "Validation score: 0.611573\n",
      "Iteration 12, loss = 0.26641224\n",
      "Validation score: 0.611901\n",
      "Validation score did not improve more than tol=0.000100 for 10 consecutive epochs. Stopping.\n"
     ]
    },
    {
     "data": {
      "text/plain": [
       "MLPClassifier(activation='relu', alpha=1e-10, batch_size=300, beta_1=0.9,\n",
       "              beta_2=0.999, early_stopping=True, epsilon=1e-08,\n",
       "              hidden_layer_sizes=(10, 10, 10), learning_rate='constant',\n",
       "              learning_rate_init=0.001, max_fun=15000, max_iter=50,\n",
       "              momentum=0.9, n_iter_no_change=10, nesterovs_momentum=True,\n",
       "              power_t=0.5, random_state=None, shuffle=True, solver='adam',\n",
       "              tol=0.0001, validation_fraction=0.1, verbose=1, warm_start=False)"
      ]
     },
     "execution_count": 10,
     "metadata": {},
     "output_type": "execute_result"
    }
   ],
   "source": [
    "cv = CountVectorizer(min_df=1, ngram_range = (1,2)) \n",
    "cv_train = cv.fit_transform(text_train)\n",
    "cv_valid = cv.transform(text_val)\n",
    "clf = MLPClassifier(hidden_layer_sizes=(10,10,10),max_iter=50,alpha=1e-10, batch_size=300, verbose=1, early_stopping=True)\n",
    "clf.fit(cv_train, labels_train)"
   ]
  },
  {
   "cell_type": "code",
   "execution_count": 11,
   "id": "6L6BB2lLE1f4",
   "metadata": {
    "colab": {
     "base_uri": "https://localhost:8080/"
    },
    "executionInfo": {
     "elapsed": 1048,
     "status": "ok",
     "timestamp": 1633313592778,
     "user": {
      "displayName": "MARTINA BUNGE",
      "photoUrl": "https://lh3.googleusercontent.com/a/default-user=s64",
      "userId": "06668125805870524406"
     },
     "user_tz": 180
    },
    "id": "6L6BB2lLE1f4",
    "outputId": "d43d99ce-be67-41ce-a9d1-45321606486e"
   },
   "outputs": [
    {
     "name": "stdout",
     "output_type": "stream",
     "text": [
      "0.7343742889543784\n",
      "0.6730339361918309\n"
     ]
    }
   ],
   "source": [
    "print(clf.score(cv_train, labels_train))\n",
    "print(clf.score(cv_valid, labels_val))\n"
   ]
  },
  {
   "cell_type": "code",
   "execution_count": null,
   "id": "04NAzF1DlXRj",
   "metadata": {
    "id": "04NAzF1DlXRj"
   },
   "outputs": [],
   "source": []
  },
  {
   "cell_type": "code",
   "execution_count": 16,
   "id": "85riswToOQnx",
   "metadata": {
    "executionInfo": {
     "elapsed": 300,
     "status": "ok",
     "timestamp": 1633316283504,
     "user": {
      "displayName": "MARTINA BUNGE",
      "photoUrl": "https://lh3.googleusercontent.com/a/default-user=s64",
      "userId": "06668125805870524406"
     },
     "user_tz": 180
    },
    "id": "85riswToOQnx"
   },
   "outputs": [],
   "source": []
  },
  {
   "cell_type": "code",
   "execution_count": 18,
   "id": "SRXFynzHE9YE",
   "metadata": {
    "executionInfo": {
     "elapsed": 309,
     "status": "ok",
     "timestamp": 1633316744908,
     "user": {
      "displayName": "MARTINA BUNGE",
      "photoUrl": "https://lh3.googleusercontent.com/a/default-user=s64",
      "userId": "06668125805870524406"
     },
     "user_tz": 180
    },
    "id": "SRXFynzHE9YE"
   },
   "outputs": [],
   "source": [
    "X_test = cv.transform(df_test['text'])"
   ]
  },
  {
   "cell_type": "code",
   "execution_count": 19,
   "id": "iszE_6OsREZd",
   "metadata": {
    "executionInfo": {
     "elapsed": 310,
     "status": "ok",
     "timestamp": 1633316793959,
     "user": {
      "displayName": "MARTINA BUNGE",
      "photoUrl": "https://lh3.googleusercontent.com/a/default-user=s64",
      "userId": "06668125805870524406"
     },
     "user_tz": 180
    },
    "id": "iszE_6OsREZd"
   },
   "outputs": [],
   "source": [
    "test_class = clf.predict(X_test)"
   ]
  },
  {
   "cell_type": "code",
   "execution_count": 20,
   "id": "j_P-5-AlRHeL",
   "metadata": {
    "colab": {
     "base_uri": "https://localhost:8080/"
    },
    "executionInfo": {
     "elapsed": 224,
     "status": "ok",
     "timestamp": 1633316809329,
     "user": {
      "displayName": "MARTINA BUNGE",
      "photoUrl": "https://lh3.googleusercontent.com/a/default-user=s64",
      "userId": "06668125805870524406"
     },
     "user_tz": 180
    },
    "id": "j_P-5-AlRHeL",
    "outputId": "85f3901a-9240-409d-8e79-f61247ae2197"
   },
   "outputs": [
    {
     "data": {
      "text/plain": [
       "(9824,)"
      ]
     },
     "execution_count": 20,
     "metadata": {},
     "output_type": "execute_result"
    }
   ],
   "source": [
    "test_class.shape"
   ]
  },
  {
   "cell_type": "code",
   "execution_count": 21,
   "id": "1iVaPX3yRUyD",
   "metadata": {
    "executionInfo": {
     "elapsed": 309,
     "status": "ok",
     "timestamp": 1633316855706,
     "user": {
      "displayName": "MARTINA BUNGE",
      "photoUrl": "https://lh3.googleusercontent.com/a/default-user=s64",
      "userId": "06668125805870524406"
     },
     "user_tz": 180
    },
    "id": "1iVaPX3yRUyD"
   },
   "outputs": [],
   "source": [
    "submit = pd.DataFrame(data=test_class, columns=['pred_labels'])"
   ]
  },
  {
   "cell_type": "code",
   "execution_count": 22,
   "id": "QC7GaeaeRWoD",
   "metadata": {
    "colab": {
     "base_uri": "https://localhost:8080/",
     "height": 450
    },
    "executionInfo": {
     "elapsed": 315,
     "status": "ok",
     "timestamp": 1633316870770,
     "user": {
      "displayName": "MARTINA BUNGE",
      "photoUrl": "https://lh3.googleusercontent.com/a/default-user=s64",
      "userId": "06668125805870524406"
     },
     "user_tz": 180
    },
    "id": "QC7GaeaeRWoD",
    "outputId": "ff0d1592-97b0-4fb6-8e4a-79ccab454ef8"
   },
   "outputs": [
    {
     "data": {
      "text/html": [
       "<div>\n",
       "<style scoped>\n",
       "    .dataframe tbody tr th:only-of-type {\n",
       "        vertical-align: middle;\n",
       "    }\n",
       "\n",
       "    .dataframe tbody tr th {\n",
       "        vertical-align: top;\n",
       "    }\n",
       "\n",
       "    .dataframe thead th {\n",
       "        text-align: right;\n",
       "    }\n",
       "</style>\n",
       "<table border=\"1\" class=\"dataframe\">\n",
       "  <thead>\n",
       "    <tr style=\"text-align: right;\">\n",
       "      <th></th>\n",
       "      <th>pred_labels</th>\n",
       "    </tr>\n",
       "    <tr>\n",
       "      <th>pairID</th>\n",
       "      <th></th>\n",
       "    </tr>\n",
       "  </thead>\n",
       "  <tbody>\n",
       "    <tr>\n",
       "      <th>0</th>\n",
       "      <td>contradiction</td>\n",
       "    </tr>\n",
       "    <tr>\n",
       "      <th>1</th>\n",
       "      <td>neutral</td>\n",
       "    </tr>\n",
       "    <tr>\n",
       "      <th>2</th>\n",
       "      <td>contradiction</td>\n",
       "    </tr>\n",
       "    <tr>\n",
       "      <th>3</th>\n",
       "      <td>entailment</td>\n",
       "    </tr>\n",
       "    <tr>\n",
       "      <th>4</th>\n",
       "      <td>neutral</td>\n",
       "    </tr>\n",
       "    <tr>\n",
       "      <th>...</th>\n",
       "      <td>...</td>\n",
       "    </tr>\n",
       "    <tr>\n",
       "      <th>9819</th>\n",
       "      <td>contradiction</td>\n",
       "    </tr>\n",
       "    <tr>\n",
       "      <th>9820</th>\n",
       "      <td>entailment</td>\n",
       "    </tr>\n",
       "    <tr>\n",
       "      <th>9821</th>\n",
       "      <td>contradiction</td>\n",
       "    </tr>\n",
       "    <tr>\n",
       "      <th>9822</th>\n",
       "      <td>entailment</td>\n",
       "    </tr>\n",
       "    <tr>\n",
       "      <th>9823</th>\n",
       "      <td>neutral</td>\n",
       "    </tr>\n",
       "  </tbody>\n",
       "</table>\n",
       "<p>9824 rows × 1 columns</p>\n",
       "</div>"
      ],
      "text/plain": [
       "          pred_labels\n",
       "pairID               \n",
       "0       contradiction\n",
       "1             neutral\n",
       "2       contradiction\n",
       "3          entailment\n",
       "4             neutral\n",
       "...               ...\n",
       "9819    contradiction\n",
       "9820       entailment\n",
       "9821    contradiction\n",
       "9822       entailment\n",
       "9823          neutral\n",
       "\n",
       "[9824 rows x 1 columns]"
      ]
     },
     "execution_count": 22,
     "metadata": {},
     "output_type": "execute_result"
    }
   ],
   "source": [
    "submit.index.names = ['pairID']\n",
    "submit"
   ]
  },
  {
   "cell_type": "code",
   "execution_count": 24,
   "id": "GkE3g-2kRnks",
   "metadata": {
    "executionInfo": {
     "elapsed": 313,
     "status": "ok",
     "timestamp": 1633316944177,
     "user": {
      "displayName": "MARTINA BUNGE",
      "photoUrl": "https://lh3.googleusercontent.com/a/default-user=s64",
      "userId": "06668125805870524406"
     },
     "user_tz": 180
    },
    "id": "GkE3g-2kRnks"
   },
   "outputs": [],
   "source": [
    "path = \"/content/drive/MyDrive/Redes TPS/TP Redes 1/\""
   ]
  },
  {
   "cell_type": "code",
   "execution_count": 25,
   "id": "FshVIvETRd5Z",
   "metadata": {
    "executionInfo": {
     "elapsed": 304,
     "status": "ok",
     "timestamp": 1633316946730,
     "user": {
      "displayName": "MARTINA BUNGE",
      "photoUrl": "https://lh3.googleusercontent.com/a/default-user=s64",
      "userId": "06668125805870524406"
     },
     "user_tz": 180
    },
    "id": "FshVIvETRd5Z"
   },
   "outputs": [],
   "source": [
    "submit.to_csv(path+'submission_mlp.csv')"
   ]
  },
  {
   "cell_type": "markdown",
   "id": "_xk_MizCXqS7",
   "metadata": {
    "id": "_xk_MizCXqS7"
   },
   "source": [
    "## Modificando hiperparámetros de la red"
   ]
  },
  {
   "cell_type": "markdown",
   "id": "mFT969A9Xx4O",
   "metadata": {
    "id": "mFT969A9Xx4O"
   },
   "source": [
    "Para esto utilizaremos la herramienta GridSearchCV de scikit Learn"
   ]
  },
  {
   "cell_type": "code",
   "execution_count": 10,
   "id": "TzaT26E8YIHN",
   "metadata": {
    "executionInfo": {
     "elapsed": 310,
     "status": "ok",
     "timestamp": 1633341850769,
     "user": {
      "displayName": "MARTINA BUNGE",
      "photoUrl": "https://lh3.googleusercontent.com/a/default-user=s64",
      "userId": "06668125805870524406"
     },
     "user_tz": 180
    },
    "id": "TzaT26E8YIHN"
   },
   "outputs": [],
   "source": [
    "from sklearn.model_selection import GridSearchCV"
   ]
  },
  {
   "cell_type": "code",
   "execution_count": 7,
   "id": "LOb3r_nhbZCO",
   "metadata": {
    "executionInfo": {
     "elapsed": 4044,
     "status": "ok",
     "timestamp": 1633386320475,
     "user": {
      "displayName": "MARTINA BUNGE",
      "photoUrl": "https://lh3.googleusercontent.com/a/default-user=s64",
      "userId": "06668125805870524406"
     },
     "user_tz": 180
    },
    "id": "LOb3r_nhbZCO"
   },
   "outputs": [],
   "source": [
    "cv = CountVectorizer(min_df=1, ngram_range = (1,2)) \n",
    "cv_train = cv.fit_transform(text_train)\n",
    "cv_valid = cv.transform(text_val)"
   ]
  },
  {
   "cell_type": "code",
   "execution_count": 15,
   "id": "BrliXdynbhtR",
   "metadata": {
    "executionInfo": {
     "elapsed": 318,
     "status": "ok",
     "timestamp": 1633355206712,
     "user": {
      "displayName": "MARTINA BUNGE",
      "photoUrl": "https://lh3.googleusercontent.com/a/default-user=s64",
      "userId": "06668125805870524406"
     },
     "user_tz": 180
    },
    "id": "BrliXdynbhtR"
   },
   "outputs": [],
   "source": [
    "#mlp_gs = MLPClassifier(max_iter=50, early_stopping=True, verbose=1)"
   ]
  },
  {
   "cell_type": "code",
   "execution_count": 16,
   "id": "GgZrUNI6bZks",
   "metadata": {
    "executionInfo": {
     "elapsed": 310,
     "status": "ok",
     "timestamp": 1633355208144,
     "user": {
      "displayName": "MARTINA BUNGE",
      "photoUrl": "https://lh3.googleusercontent.com/a/default-user=s64",
      "userId": "06668125805870524406"
     },
     "user_tz": 180
    },
    "id": "GgZrUNI6bZks"
   },
   "outputs": [],
   "source": [
    "#parameter_space = {\n",
    "    #'hidden_layer_sizes': [(30,),(20,10),(10,20),(10,10,10)],\n",
    "    #'activation': ['tanh', 'relu'],\n",
    "    #'solver': ['sgd', 'adam'],\n",
    "    #'alpha': [1e-10],\n",
    "    #'learning_rate': ['constant','adaptive'],\n",
    "#}"
   ]
  },
  {
   "cell_type": "code",
   "execution_count": 36,
   "id": "5Rsgf2Yec1t-",
   "metadata": {
    "executionInfo": {
     "elapsed": 222,
     "status": "ok",
     "timestamp": 1633398997531,
     "user": {
      "displayName": "MARTINA BUNGE",
      "photoUrl": "https://lh3.googleusercontent.com/a/default-user=s64",
      "userId": "06668125805870524406"
     },
     "user_tz": 180
    },
    "id": "5Rsgf2Yec1t-"
   },
   "outputs": [],
   "source": [
    "#clf = GridSearchCV(mlp_gs, parameter_space, n_jobs=-1, cv=3)\n",
    "#clf.fit(cv_train, labels_train) # X is train samples and y is the corresponding labels"
   ]
  },
  {
   "cell_type": "markdown",
   "id": "lD64RBdJ4NKJ",
   "metadata": {
    "id": "lD64RBdJ4NKJ"
   },
   "source": [
    "Como cada modelo lleva aprox 40 minutos de entrenamiento, al intentar utilizar la herramienta propuesta, por la cantidad de combinaciones posibles, esto lleva demasiado tiempo y termina rompiendo antes de terminar de correr, por lo que se optó por variar cada hiperparámetro individualmente."
   ]
  },
  {
   "cell_type": "markdown",
   "id": "h38F9SJL4yMX",
   "metadata": {
    "id": "h38F9SJL4yMX"
   },
   "source": [
    "### Variando la cantidad y tamaño de las capas ocultas"
   ]
  },
  {
   "cell_type": "code",
   "execution_count": 21,
   "id": "IwdFu1bhSvge",
   "metadata": {
    "colab": {
     "base_uri": "https://localhost:8080/"
    },
    "executionInfo": {
     "elapsed": 1259335,
     "status": "ok",
     "timestamp": 1633361549967,
     "user": {
      "displayName": "MARTINA BUNGE",
      "photoUrl": "https://lh3.googleusercontent.com/a/default-user=s64",
      "userId": "06668125805870524406"
     },
     "user_tz": 180
    },
    "id": "IwdFu1bhSvge",
    "outputId": "b96a5c7b-210c-4e91-e7fd-f832f5ef19ac"
   },
   "outputs": [
    {
     "name": "stdout",
     "output_type": "stream",
     "text": [
      "Iteration 1, loss = 0.82609114\n",
      "Validation score: 0.654368\n",
      "Iteration 2, loss = 0.63861877\n",
      "Validation score: 0.647487\n",
      "Iteration 3, loss = 0.51046482\n",
      "Validation score: 0.637385\n",
      "Iteration 4, loss = 0.42233998\n",
      "Validation score: 0.631196\n",
      "Iteration 5, loss = 0.36152831\n",
      "Validation score: 0.627901\n",
      "Iteration 6, loss = 0.31710388\n",
      "Validation score: 0.623441\n",
      "Iteration 7, loss = 0.28305904\n",
      "Validation score: 0.617744\n",
      "Iteration 8, loss = 0.25655691\n",
      "Validation score: 0.614631\n",
      "Iteration 9, loss = 0.23599356\n",
      "Validation score: 0.612429\n",
      "Iteration 10, loss = 0.21916215\n",
      "Validation score: 0.609116\n",
      "Iteration 11, loss = 0.20606148\n",
      "Validation score: 0.607732\n",
      "Iteration 12, loss = 0.19508089\n",
      "Validation score: 0.605148\n",
      "Validation score did not improve more than tol=0.000100 for 10 consecutive epochs. Stopping.\n"
     ]
    },
    {
     "data": {
      "text/plain": [
       "MLPClassifier(activation='relu', alpha=1e-10, batch_size=300, beta_1=0.9,\n",
       "              beta_2=0.999, early_stopping=True, epsilon=1e-08,\n",
       "              hidden_layer_sizes=(30,), learning_rate='constant',\n",
       "              learning_rate_init=0.001, max_fun=15000, max_iter=50,\n",
       "              momentum=0.9, n_iter_no_change=10, nesterovs_momentum=True,\n",
       "              power_t=0.5, random_state=None, shuffle=True, solver='adam',\n",
       "              tol=0.0001, validation_fraction=0.1, verbose=1, warm_start=False)"
      ]
     },
     "execution_count": 21,
     "metadata": {},
     "output_type": "execute_result"
    }
   ],
   "source": [
    "cv = CountVectorizer(min_df=1, ngram_range = (1,2)) \n",
    "cv_train = cv.fit_transform(text_train)\n",
    "cv_valid = cv.transform(text_val)\n",
    "clf = MLPClassifier(hidden_layer_sizes=(30,),max_iter=50,alpha=1e-10, batch_size=300, verbose=1, early_stopping=True)\n",
    "clf.fit(cv_train, labels_train)"
   ]
  },
  {
   "cell_type": "code",
   "execution_count": 22,
   "id": "I77IxMsFlZ0V",
   "metadata": {
    "colab": {
     "base_uri": "https://localhost:8080/"
    },
    "executionInfo": {
     "elapsed": 1645,
     "status": "ok",
     "timestamp": 1633362363475,
     "user": {
      "displayName": "MARTINA BUNGE",
      "photoUrl": "https://lh3.googleusercontent.com/a/default-user=s64",
      "userId": "06668125805870524406"
     },
     "user_tz": 180
    },
    "id": "I77IxMsFlZ0V",
    "outputId": "df2d0243-ec06-4721-a78a-cadd28678b7b"
   },
   "outputs": [
    {
     "name": "stdout",
     "output_type": "stream",
     "text": [
      "0.7390960869509817\n",
      "0.6665311928469824\n"
     ]
    }
   ],
   "source": [
    "print(clf.score(cv_train, labels_train))\n",
    "print(clf.score(cv_valid, labels_val))"
   ]
  },
  {
   "cell_type": "code",
   "execution_count": 23,
   "id": "mdhE9dnskzmO",
   "metadata": {
    "colab": {
     "base_uri": "https://localhost:8080/"
    },
    "executionInfo": {
     "elapsed": 3618041,
     "status": "ok",
     "timestamp": 1633365998110,
     "user": {
      "displayName": "MARTINA BUNGE",
      "photoUrl": "https://lh3.googleusercontent.com/a/default-user=s64",
      "userId": "06668125805870524406"
     },
     "user_tz": 180
    },
    "id": "mdhE9dnskzmO",
    "outputId": "396f3a99-4142-40c3-fc2d-5c7256797c53"
   },
   "outputs": [
    {
     "name": "stdout",
     "output_type": "stream",
     "text": [
      "Iteration 1, loss = 0.82404596\n",
      "Validation score: 0.659574\n",
      "Iteration 2, loss = 0.63701845\n",
      "Validation score: 0.649617\n",
      "Iteration 3, loss = 0.50616471\n",
      "Validation score: 0.639587\n",
      "Iteration 4, loss = 0.41769893\n",
      "Validation score: 0.632707\n",
      "Iteration 5, loss = 0.35879993\n",
      "Validation score: 0.624716\n",
      "Iteration 6, loss = 0.31843776\n",
      "Validation score: 0.621020\n",
      "Iteration 7, loss = 0.28756015\n",
      "Validation score: 0.617052\n",
      "Iteration 8, loss = 0.26478998\n",
      "Validation score: 0.618308\n",
      "Iteration 9, loss = 0.24715206\n",
      "Validation score: 0.616324\n",
      "Iteration 10, loss = 0.23230432\n",
      "Validation score: 0.614832\n",
      "Iteration 11, loss = 0.22043976\n",
      "Validation score: 0.610536\n",
      "Iteration 12, loss = 0.21038829\n",
      "Validation score: 0.612010\n",
      "Validation score did not improve more than tol=0.000100 for 10 consecutive epochs. Stopping.\n"
     ]
    },
    {
     "data": {
      "text/plain": [
       "MLPClassifier(activation='relu', alpha=1e-10, batch_size=300, beta_1=0.9,\n",
       "              beta_2=0.999, early_stopping=True, epsilon=1e-08,\n",
       "              hidden_layer_sizes=(20, 10), learning_rate='constant',\n",
       "              learning_rate_init=0.001, max_fun=15000, max_iter=50,\n",
       "              momentum=0.9, n_iter_no_change=10, nesterovs_momentum=True,\n",
       "              power_t=0.5, random_state=None, shuffle=True, solver='adam',\n",
       "              tol=0.0001, validation_fraction=0.1, verbose=1, warm_start=False)"
      ]
     },
     "execution_count": 23,
     "metadata": {},
     "output_type": "execute_result"
    }
   ],
   "source": [
    "clf = MLPClassifier(hidden_layer_sizes=(20,10),max_iter=50,alpha=1e-10, batch_size=300, verbose=1, early_stopping=True)\n",
    "clf.fit(cv_train, labels_train)"
   ]
  },
  {
   "cell_type": "code",
   "execution_count": 24,
   "id": "BL6FUgfHlix1",
   "metadata": {
    "colab": {
     "base_uri": "https://localhost:8080/"
    },
    "executionInfo": {
     "elapsed": 1643,
     "status": "ok",
     "timestamp": 1633370089620,
     "user": {
      "displayName": "MARTINA BUNGE",
      "photoUrl": "https://lh3.googleusercontent.com/a/default-user=s64",
      "userId": "06668125805870524406"
     },
     "user_tz": 180
    },
    "id": "BL6FUgfHlix1",
    "outputId": "5985d5be-f9b7-46a5-d221-c197b1ac8698"
   },
   "outputs": [
    {
     "name": "stdout",
     "output_type": "stream",
     "text": [
      "0.7407052116344811\n",
      "0.6692745376955903\n"
     ]
    }
   ],
   "source": [
    "print(clf2.score(cv_train, labels_train))\n",
    "print(clf2.score(cv_valid, labels_val))"
   ]
  },
  {
   "cell_type": "code",
   "execution_count": 25,
   "id": "5DHpxcfkF1Rt",
   "metadata": {
    "colab": {
     "base_uri": "https://localhost:8080/"
    },
    "executionInfo": {
     "elapsed": 1966003,
     "status": "ok",
     "timestamp": 1633372064845,
     "user": {
      "displayName": "MARTINA BUNGE",
      "photoUrl": "https://lh3.googleusercontent.com/a/default-user=s64",
      "userId": "06668125805870524406"
     },
     "user_tz": 180
    },
    "id": "5DHpxcfkF1Rt",
    "outputId": "0e7d3835-da42-4732-f394-2ec31b911934"
   },
   "outputs": [
    {
     "name": "stdout",
     "output_type": "stream",
     "text": [
      "Iteration 1, loss = 0.82675551\n",
      "Validation score: 0.656971\n",
      "Iteration 2, loss = 0.64979012\n",
      "Validation score: 0.650673\n",
      "Iteration 3, loss = 0.53012811\n",
      "Validation score: 0.637694\n",
      "Iteration 4, loss = 0.45266899\n",
      "Validation score: 0.632069\n",
      "Iteration 5, loss = 0.40213258\n",
      "Validation score: 0.625972\n",
      "Iteration 6, loss = 0.36654475\n",
      "Validation score: 0.623496\n",
      "Iteration 7, loss = 0.33908577\n",
      "Validation score: 0.620292\n",
      "Iteration 8, loss = 0.31872493\n",
      "Validation score: 0.618763\n",
      "Iteration 9, loss = 0.30186487\n",
      "Validation score: 0.615123\n",
      "Iteration 10, loss = 0.28798130\n",
      "Validation score: 0.614722\n",
      "Iteration 11, loss = 0.27640811\n",
      "Validation score: 0.613430\n",
      "Iteration 12, loss = 0.26598066\n",
      "Validation score: 0.610973\n",
      "Validation score did not improve more than tol=0.000100 for 10 consecutive epochs. Stopping.\n"
     ]
    },
    {
     "data": {
      "text/plain": [
       "MLPClassifier(activation='relu', alpha=1e-10, batch_size=300, beta_1=0.9,\n",
       "              beta_2=0.999, early_stopping=True, epsilon=1e-08,\n",
       "              hidden_layer_sizes=(10, 20), learning_rate='constant',\n",
       "              learning_rate_init=0.001, max_fun=15000, max_iter=50,\n",
       "              momentum=0.9, n_iter_no_change=10, nesterovs_momentum=True,\n",
       "              power_t=0.5, random_state=None, shuffle=True, solver='adam',\n",
       "              tol=0.0001, validation_fraction=0.1, verbose=1, warm_start=False)"
      ]
     },
     "execution_count": 25,
     "metadata": {},
     "output_type": "execute_result"
    }
   ],
   "source": [
    "clf2 = MLPClassifier(hidden_layer_sizes=(10,20),max_iter=50,alpha=1e-10, batch_size=300, verbose=1, early_stopping=True)\n",
    "clf2.fit(cv_train, labels_train)"
   ]
  },
  {
   "cell_type": "code",
   "execution_count": 26,
   "id": "pz-gF81jF5zg",
   "metadata": {
    "colab": {
     "base_uri": "https://localhost:8080/"
    },
    "executionInfo": {
     "elapsed": 1272,
     "status": "ok",
     "timestamp": 1633372193329,
     "user": {
      "displayName": "MARTINA BUNGE",
      "photoUrl": "https://lh3.googleusercontent.com/a/default-user=s64",
      "userId": "06668125805870524406"
     },
     "user_tz": 180
    },
    "id": "pz-gF81jF5zg",
    "outputId": "352430ab-6efa-47d9-8d20-70e1506185b4"
   },
   "outputs": [
    {
     "name": "stdout",
     "output_type": "stream",
     "text": [
      "0.7348857867327305\n",
      "0.6733387522861207\n"
     ]
    }
   ],
   "source": [
    "print(clf2.score(cv_train, labels_train))\n",
    "print(clf2.score(cv_valid, labels_val))"
   ]
  },
  {
   "cell_type": "code",
   "execution_count": 27,
   "id": "rZhnJWT5luNH",
   "metadata": {
    "colab": {
     "base_uri": "https://localhost:8080/"
    },
    "executionInfo": {
     "elapsed": 2828198,
     "status": "ok",
     "timestamp": 1633375865668,
     "user": {
      "displayName": "MARTINA BUNGE",
      "photoUrl": "https://lh3.googleusercontent.com/a/default-user=s64",
      "userId": "06668125805870524406"
     },
     "user_tz": 180
    },
    "id": "rZhnJWT5luNH",
    "outputId": "a2766911-54c2-4f5c-84cb-2382f5bba75e"
   },
   "outputs": [
    {
     "name": "stdout",
     "output_type": "stream",
     "text": [
      "Iteration 1, loss = 0.82490961\n",
      "Validation score: 0.653348\n",
      "Iteration 2, loss = 0.63661065\n",
      "Validation score: 0.645776\n",
      "Iteration 3, loss = 0.50634289\n",
      "Validation score: 0.634436\n",
      "Iteration 4, loss = 0.42039746\n",
      "Validation score: 0.630067\n",
      "Iteration 5, loss = 0.36458018\n",
      "Validation score: 0.624097\n",
      "Iteration 6, loss = 0.32609128\n",
      "Validation score: 0.622713\n",
      "Iteration 7, loss = 0.29830175\n",
      "Validation score: 0.618618\n",
      "Iteration 8, loss = 0.27668583\n",
      "Validation score: 0.617289\n",
      "Iteration 9, loss = 0.25928622\n",
      "Validation score: 0.613375\n",
      "Iteration 10, loss = 0.24645186\n",
      "Validation score: 0.610609\n",
      "Iteration 11, loss = 0.23472093\n",
      "Validation score: 0.609225\n",
      "Iteration 12, loss = 0.22561303\n",
      "Validation score: 0.609389\n",
      "Validation score did not improve more than tol=0.000100 for 10 consecutive epochs. Stopping.\n"
     ]
    },
    {
     "data": {
      "text/plain": [
       "MLPClassifier(activation='relu', alpha=1e-10, batch_size=300, beta_1=0.9,\n",
       "              beta_2=0.999, early_stopping=True, epsilon=1e-08,\n",
       "              hidden_layer_sizes=(15, 15, 15), learning_rate='constant',\n",
       "              learning_rate_init=0.001, max_fun=15000, max_iter=50,\n",
       "              momentum=0.9, n_iter_no_change=10, nesterovs_momentum=True,\n",
       "              power_t=0.5, random_state=None, shuffle=True, solver='adam',\n",
       "              tol=0.0001, validation_fraction=0.1, verbose=1, warm_start=False)"
      ]
     },
     "execution_count": 27,
     "metadata": {},
     "output_type": "execute_result"
    }
   ],
   "source": [
    "clf2 = MLPClassifier(hidden_layer_sizes=(15,15,15),max_iter=50,alpha=1e-10, batch_size=300, verbose=1, early_stopping=True)\n",
    "clf2.fit(cv_train, labels_train)"
   ]
  },
  {
   "cell_type": "code",
   "execution_count": 28,
   "id": "Nc5vknS8tcwy",
   "metadata": {
    "colab": {
     "base_uri": "https://localhost:8080/"
    },
    "executionInfo": {
     "elapsed": 1709,
     "status": "ok",
     "timestamp": 1633375880931,
     "user": {
      "displayName": "MARTINA BUNGE",
      "photoUrl": "https://lh3.googleusercontent.com/a/default-user=s64",
      "userId": "06668125805870524406"
     },
     "user_tz": 180
    },
    "id": "Nc5vknS8tcwy",
    "outputId": "785b48ab-0ad8-4bd5-f721-2455b9fd1af5"
   },
   "outputs": [
    {
     "name": "stdout",
     "output_type": "stream",
     "text": [
      "0.7379001650991049\n",
      "0.6692745376955903\n"
     ]
    }
   ],
   "source": [
    "print(clf2.score(cv_train, labels_train))\n",
    "print(clf2.score(cv_valid, labels_val))"
   ]
  },
  {
   "cell_type": "markdown",
   "id": "lgCNjDU9ynDP",
   "metadata": {
    "id": "lgCNjDU9ynDP"
   },
   "source": [
    "### Variando alpha"
   ]
  },
  {
   "cell_type": "code",
   "execution_count": 29,
   "id": "C8F0FzT2ykfS",
   "metadata": {
    "colab": {
     "base_uri": "https://localhost:8080/"
    },
    "executionInfo": {
     "elapsed": 1969398,
     "status": "ok",
     "timestamp": 1633377923361,
     "user": {
      "displayName": "MARTINA BUNGE",
      "photoUrl": "https://lh3.googleusercontent.com/a/default-user=s64",
      "userId": "06668125805870524406"
     },
     "user_tz": 180
    },
    "id": "C8F0FzT2ykfS",
    "outputId": "c896e9cc-f3f4-46aa-a773-1fb0dd5084a2"
   },
   "outputs": [
    {
     "name": "stdout",
     "output_type": "stream",
     "text": [
      "Iteration 1, loss = 0.84999704\n",
      "Validation score: 0.652566\n",
      "Iteration 2, loss = 0.66128546\n",
      "Validation score: 0.645412\n",
      "Iteration 3, loss = 0.54129175\n",
      "Validation score: 0.637057\n",
      "Iteration 4, loss = 0.46288523\n",
      "Validation score: 0.631833\n",
      "Iteration 5, loss = 0.41174070\n",
      "Validation score: 0.628156\n",
      "Iteration 6, loss = 0.37609442\n",
      "Validation score: 0.623933\n",
      "Iteration 7, loss = 0.34976607\n",
      "Validation score: 0.619801\n",
      "Iteration 8, loss = 0.32831947\n",
      "Validation score: 0.616688\n",
      "Iteration 9, loss = 0.31161324\n",
      "Validation score: 0.614067\n",
      "Iteration 10, loss = 0.29705900\n",
      "Validation score: 0.611045\n",
      "Iteration 11, loss = 0.28553917\n",
      "Validation score: 0.611282\n",
      "Iteration 12, loss = 0.27484671\n",
      "Validation score: 0.610117\n",
      "Validation score did not improve more than tol=0.000100 for 10 consecutive epochs. Stopping.\n"
     ]
    },
    {
     "data": {
      "text/plain": [
       "MLPClassifier(activation='relu', alpha=1e-09, batch_size=300, beta_1=0.9,\n",
       "              beta_2=0.999, early_stopping=True, epsilon=1e-08,\n",
       "              hidden_layer_sizes=(10, 10, 10), learning_rate='constant',\n",
       "              learning_rate_init=0.001, max_fun=15000, max_iter=50,\n",
       "              momentum=0.9, n_iter_no_change=10, nesterovs_momentum=True,\n",
       "              power_t=0.5, random_state=None, shuffle=True, solver='adam',\n",
       "              tol=0.0001, validation_fraction=0.1, verbose=1, warm_start=False)"
      ]
     },
     "execution_count": 29,
     "metadata": {},
     "output_type": "execute_result"
    }
   ],
   "source": [
    "clf2 = MLPClassifier(hidden_layer_sizes=(10,10,10),max_iter=50,alpha=1e-9, batch_size=300, verbose=1, early_stopping=True)\n",
    "clf2.fit(cv_train, labels_train)"
   ]
  },
  {
   "cell_type": "code",
   "execution_count": 30,
   "id": "7rGa1xt48uEy",
   "metadata": {
    "colab": {
     "base_uri": "https://localhost:8080/"
    },
    "executionInfo": {
     "elapsed": 1667,
     "status": "ok",
     "timestamp": 1633378583903,
     "user": {
      "displayName": "MARTINA BUNGE",
      "photoUrl": "https://lh3.googleusercontent.com/a/default-user=s64",
      "userId": "06668125805870524406"
     },
     "user_tz": 180
    },
    "id": "7rGa1xt48uEy",
    "outputId": "d5737d35-591a-4c46-c33b-06f37a6e38b0"
   },
   "outputs": [
    {
     "name": "stdout",
     "output_type": "stream",
     "text": [
      "0.7289480438395463\n",
      "0.6716114610851452\n"
     ]
    }
   ],
   "source": [
    "print(clf2.score(cv_train, labels_train))\n",
    "print(clf2.score(cv_valid, labels_val))"
   ]
  },
  {
   "cell_type": "code",
   "execution_count": 8,
   "id": "y5gDELJ-FiKw",
   "metadata": {
    "colab": {
     "base_uri": "https://localhost:8080/"
    },
    "executionInfo": {
     "elapsed": 2363976,
     "status": "ok",
     "timestamp": 1633388693046,
     "user": {
      "displayName": "MARTINA BUNGE",
      "photoUrl": "https://lh3.googleusercontent.com/a/default-user=s64",
      "userId": "06668125805870524406"
     },
     "user_tz": 180
    },
    "id": "y5gDELJ-FiKw",
    "outputId": "0cbdb3ce-05a9-4844-fc23-2454fabfbff8"
   },
   "outputs": [
    {
     "name": "stdout",
     "output_type": "stream",
     "text": [
      "Iteration 1, loss = 0.84594094\n",
      "Validation score: 0.654623\n",
      "Iteration 2, loss = 0.66163852\n",
      "Validation score: 0.651437\n",
      "Iteration 3, loss = 0.54177691\n",
      "Validation score: 0.638804\n",
      "Iteration 4, loss = 0.46017614\n",
      "Validation score: 0.633107\n",
      "Iteration 5, loss = 0.40770787\n",
      "Validation score: 0.628738\n",
      "Iteration 6, loss = 0.37150017\n",
      "Validation score: 0.625535\n",
      "Iteration 7, loss = 0.34469974\n",
      "Validation score: 0.623951\n",
      "Iteration 8, loss = 0.32455318\n",
      "Validation score: 0.622477\n",
      "Iteration 9, loss = 0.30784780\n",
      "Validation score: 0.621912\n",
      "Iteration 10, loss = 0.29393413\n",
      "Validation score: 0.619018\n",
      "Iteration 11, loss = 0.28231242\n",
      "Validation score: 0.617143\n",
      "Iteration 12, loss = 0.27265504\n",
      "Validation score: 0.615250\n",
      "Validation score did not improve more than tol=0.000100 for 10 consecutive epochs. Stopping.\n"
     ]
    },
    {
     "data": {
      "text/plain": [
       "MLPClassifier(activation='relu', alpha=1e-08, batch_size=300, beta_1=0.9,\n",
       "              beta_2=0.999, early_stopping=True, epsilon=1e-08,\n",
       "              hidden_layer_sizes=(10, 10, 10), learning_rate='constant',\n",
       "              learning_rate_init=0.001, max_fun=15000, max_iter=50,\n",
       "              momentum=0.9, n_iter_no_change=10, nesterovs_momentum=True,\n",
       "              power_t=0.5, random_state=None, shuffle=True, solver='adam',\n",
       "              tol=0.0001, validation_fraction=0.1, verbose=1, warm_start=False)"
      ]
     },
     "execution_count": 8,
     "metadata": {},
     "output_type": "execute_result"
    }
   ],
   "source": [
    "clf2 = MLPClassifier(hidden_layer_sizes=(10,10,10),max_iter=50,alpha=1e-8, batch_size=300, verbose=1, early_stopping=True)\n",
    "clf2.fit(cv_train, labels_train)"
   ]
  },
  {
   "cell_type": "code",
   "execution_count": 9,
   "id": "ChPqmu2SZCmu",
   "metadata": {
    "colab": {
     "base_uri": "https://localhost:8080/"
    },
    "executionInfo": {
     "elapsed": 833,
     "status": "ok",
     "timestamp": 1633388694455,
     "user": {
      "displayName": "MARTINA BUNGE",
      "photoUrl": "https://lh3.googleusercontent.com/a/default-user=s64",
      "userId": "06668125805870524406"
     },
     "user_tz": 180
    },
    "id": "ChPqmu2SZCmu",
    "outputId": "b2ca77a5-7649-4a8e-f2cb-a68fea0555c6"
   },
   "outputs": [
    {
     "name": "stdout",
     "output_type": "stream",
     "text": [
      "0.7269912462889107\n",
      "0.6691729323308271\n"
     ]
    }
   ],
   "source": [
    "print(clf2.score(cv_train, labels_train))\n",
    "print(clf2.score(cv_valid, labels_val))"
   ]
  },
  {
   "cell_type": "code",
   "execution_count": null,
   "id": "3QA02p9ckFlv",
   "metadata": {
    "id": "3QA02p9ckFlv"
   },
   "outputs": [],
   "source": [
    "print(clf2.score(cv_train, labels_train))\n",
    "print(clf2.score(cv_valid, labels_val))"
   ]
  },
  {
   "cell_type": "markdown",
   "id": "x6Lnw9cha-Rf",
   "metadata": {
    "id": "x6Lnw9cha-Rf"
   },
   "source": [
    "## Variando learning rate"
   ]
  },
  {
   "cell_type": "code",
   "execution_count": 14,
   "id": "6OBYWbccbCn1",
   "metadata": {
    "colab": {
     "base_uri": "https://localhost:8080/"
    },
    "executionInfo": {
     "elapsed": 2751348,
     "status": "ok",
     "timestamp": 1633391727758,
     "user": {
      "displayName": "MARTINA BUNGE",
      "photoUrl": "https://lh3.googleusercontent.com/a/default-user=s64",
      "userId": "06668125805870524406"
     },
     "user_tz": 180
    },
    "id": "6OBYWbccbCn1",
    "outputId": "9f92d56e-17ac-420c-e1d8-dc8511820864"
   },
   "outputs": [
    {
     "name": "stdout",
     "output_type": "stream",
     "text": [
      "Iteration 1, loss = 1.00745029\n",
      "Validation score: 0.623751\n",
      "Iteration 2, loss = 0.80128339\n",
      "Validation score: 0.649307\n",
      "Iteration 3, loss = 0.71255460\n",
      "Validation score: 0.653112\n",
      "Iteration 4, loss = 0.64840109\n",
      "Validation score: 0.652584\n",
      "Iteration 5, loss = 0.59291322\n",
      "Validation score: 0.649453\n",
      "Iteration 6, loss = 0.54544695\n",
      "Validation score: 0.643628\n",
      "Iteration 7, loss = 0.50591727\n",
      "Validation score: 0.638768\n",
      "Iteration 8, loss = 0.47414756\n",
      "Validation score: 0.635291\n",
      "Iteration 9, loss = 0.44878951\n",
      "Validation score: 0.631305\n",
      "Iteration 10, loss = 0.42858899\n",
      "Validation score: 0.626172\n",
      "Iteration 11, loss = 0.41245267\n",
      "Validation score: 0.623842\n",
      "Iteration 12, loss = 0.39914344\n",
      "Validation score: 0.622986\n",
      "Iteration 13, loss = 0.38842810\n",
      "Validation score: 0.619127\n",
      "Iteration 14, loss = 0.37939947\n",
      "Validation score: 0.617416\n",
      "Validation score did not improve more than tol=0.000100 for 10 consecutive epochs. Stopping.\n"
     ]
    },
    {
     "data": {
      "text/plain": [
       "MLPClassifier(activation='relu', alpha=1e-10, batch_size=300, beta_1=0.9,\n",
       "              beta_2=0.999, early_stopping=True, epsilon=1e-08,\n",
       "              hidden_layer_sizes=(10, 10, 10), learning_rate='constant',\n",
       "              learning_rate_init=0.0001, max_fun=15000, max_iter=50,\n",
       "              momentum=0.9, n_iter_no_change=10, nesterovs_momentum=True,\n",
       "              power_t=0.5, random_state=None, shuffle=True, solver='adam',\n",
       "              tol=0.0001, validation_fraction=0.1, verbose=1, warm_start=False)"
      ]
     },
     "execution_count": 14,
     "metadata": {},
     "output_type": "execute_result"
    }
   ],
   "source": [
    "clf = MLPClassifier(hidden_layer_sizes=(10,10,10),max_iter=50,alpha=1e-10, batch_size=300, verbose=1, early_stopping=True, learning_rate_init=0.0001)\n",
    "clf.fit(cv_train, labels_train)"
   ]
  },
  {
   "cell_type": "code",
   "execution_count": 15,
   "id": "KMBdAy4Ba72n",
   "metadata": {
    "colab": {
     "base_uri": "https://localhost:8080/"
    },
    "executionInfo": {
     "elapsed": 1133,
     "status": "ok",
     "timestamp": 1633392180161,
     "user": {
      "displayName": "MARTINA BUNGE",
      "photoUrl": "https://lh3.googleusercontent.com/a/default-user=s64",
      "userId": "06668125805870524406"
     },
     "user_tz": 180
    },
    "id": "KMBdAy4Ba72n",
    "outputId": "db74958c-3684-481e-d29c-1e363d23315d"
   },
   "outputs": [
    {
     "name": "stdout",
     "output_type": "stream",
     "text": [
      "0.7299273527532597\n",
      "0.6705954074375127\n"
     ]
    }
   ],
   "source": [
    "print(clf.score(cv_train, labels_train))\n",
    "print(clf.score(cv_valid, labels_val))"
   ]
  },
  {
   "cell_type": "markdown",
   "id": "Oyg_JGAEboqV",
   "metadata": {
    "id": "Oyg_JGAEboqV"
   },
   "source": [
    "# Validación y métricas"
   ]
  },
  {
   "cell_type": "markdown",
   "id": "fIMTqT5WbjAY",
   "metadata": {
    "id": "fIMTqT5WbjAY"
   },
   "source": [
    "Tomaremos el modelo cuyo Accuracy en el set de validación resultó más alto. Éste modelo tiene la siguiente estructura:\n",
    "\n",
    "Es un modelo de Multiple layer Perceptron con dos capas ocultas, una de ellas conformada por 10 perceptrones y otra por 20. La función de activación de los perceptrones es ReLu, y al ser un modelo de clasificación tiene una capa de activación SoftMax en su salida. \n",
    "\n",
    "Estas capas se mostrarán en la siguiente celda:"
   ]
  },
  {
   "cell_type": "markdown",
   "id": "W38qp78KdgWd",
   "metadata": {
    "id": "W38qp78KdgWd"
   },
   "source": [
    "Además, el modelo es entrenado con los siguientes hiperparámetros: \n",
    "\n",
    "* Una cantidad máxima de 50 iteraciones con Early Stopping activado\n",
    "* Un optimizador ADAM \n",
    "* Función de pérdida a optimizar: log-loss function, alpha= 1e-10\n",
    "* Learning rate de 0,001\n",
    "\n"
   ]
  },
  {
   "cell_type": "markdown",
   "id": "G9DGcNFifwhf",
   "metadata": {
    "id": "G9DGcNFifwhf"
   },
   "source": [
    "Como lenguaje se tomarán n-grams conformados por una y por dos palabras"
   ]
  },
  {
   "cell_type": "code",
   "execution_count": 19,
   "id": "D3LixdQ1df-E",
   "metadata": {
    "colab": {
     "base_uri": "https://localhost:8080/"
    },
    "executionInfo": {
     "elapsed": 2432202,
     "status": "ok",
     "timestamp": 1633397269625,
     "user": {
      "displayName": "MARTINA BUNGE",
      "photoUrl": "https://lh3.googleusercontent.com/a/default-user=s64",
      "userId": "06668125805870524406"
     },
     "user_tz": 180
    },
    "id": "D3LixdQ1df-E",
    "outputId": "854df4a8-f60a-4f66-ec5a-c510f3e730d5"
   },
   "outputs": [
    {
     "name": "stdout",
     "output_type": "stream",
     "text": [
      "Iteration 1, loss = 0.82960469\n",
      "Validation score: 0.656643\n",
      "Iteration 2, loss = 0.64544693\n",
      "Validation score: 0.650218\n",
      "Iteration 3, loss = 0.51942967\n",
      "Validation score: 0.638750\n",
      "Iteration 4, loss = 0.43791598\n",
      "Validation score: 0.631560\n",
      "Iteration 5, loss = 0.38678032\n",
      "Validation score: 0.630031\n",
      "Iteration 6, loss = 0.35120671\n",
      "Validation score: 0.623532\n",
      "Iteration 7, loss = 0.32565013\n",
      "Validation score: 0.621912\n",
      "Iteration 8, loss = 0.30581048\n",
      "Validation score: 0.618909\n",
      "Iteration 9, loss = 0.29076624\n",
      "Validation score: 0.614413\n",
      "Iteration 10, loss = 0.27830315\n",
      "Validation score: 0.612611\n",
      "Iteration 11, loss = 0.26734220\n",
      "Validation score: 0.611391\n",
      "Iteration 12, loss = 0.25841205\n",
      "Validation score: 0.611318\n",
      "Validation score did not improve more than tol=0.000100 for 10 consecutive epochs. Stopping.\n"
     ]
    },
    {
     "data": {
      "text/plain": [
       "MLPClassifier(activation='relu', alpha=1e-10, batch_size=300, beta_1=0.9,\n",
       "              beta_2=0.999, early_stopping=True, epsilon=1e-08,\n",
       "              hidden_layer_sizes=(10, 20), learning_rate='constant',\n",
       "              learning_rate_init=0.001, max_fun=15000, max_iter=50,\n",
       "              momentum=0.9, n_iter_no_change=10, nesterovs_momentum=True,\n",
       "              power_t=0.5, random_state=None, shuffle=True, solver='adam',\n",
       "              tol=0.0001, validation_fraction=0.1, verbose=1, warm_start=False)"
      ]
     },
     "execution_count": 19,
     "metadata": {},
     "output_type": "execute_result"
    }
   ],
   "source": [
    "clf2 = MLPClassifier(hidden_layer_sizes=(10,20),max_iter=50,alpha=1e-10, batch_size=300, verbose=1, early_stopping=True)\n",
    "clf2.fit(cv_train, labels_train)"
   ]
  },
  {
   "cell_type": "code",
   "execution_count": 20,
   "id": "p6VW67nBxMf2",
   "metadata": {
    "colab": {
     "base_uri": "https://localhost:8080/"
    },
    "executionInfo": {
     "elapsed": 1340,
     "status": "ok",
     "timestamp": 1633397295022,
     "user": {
      "displayName": "MARTINA BUNGE",
      "photoUrl": "https://lh3.googleusercontent.com/a/default-user=s64",
      "userId": "06668125805870524406"
     },
     "user_tz": 180
    },
    "id": "p6VW67nBxMf2",
    "outputId": "1abc2edf-6dce-4dbc-b796-d8ab19eb4ef2"
   },
   "outputs": [
    {
     "name": "stdout",
     "output_type": "stream",
     "text": [
      "0.7348584825808613\n",
      "0.6676488518593782\n"
     ]
    }
   ],
   "source": [
    "print(clf2.score(cv_train, labels_train))\n",
    "print(clf2.score(cv_valid, labels_val))"
   ]
  },
  {
   "cell_type": "markdown",
   "id": "lvubmHQ0gCIf",
   "metadata": {
    "id": "lvubmHQ0gCIf"
   },
   "source": [
    "Como método de validación se utiliza el método de Hold Out validation, utilizando la partición ya dada para Train y Validation"
   ]
  },
  {
   "cell_type": "markdown",
   "id": "--sKl6XkpUQQ",
   "metadata": {
    "id": "--sKl6XkpUQQ"
   },
   "source": [
    "Para calcular las métricas y evaluar el desempeño del modelo utilizaremos el Validation_set. En primer lugar calculamos y graficamos la matriz de confusión"
   ]
  },
  {
   "cell_type": "code",
   "execution_count": 24,
   "id": "q_aDO4fbxISh",
   "metadata": {
    "executionInfo": {
     "elapsed": 217,
     "status": "ok",
     "timestamp": 1633397613648,
     "user": {
      "displayName": "MARTINA BUNGE",
      "photoUrl": "https://lh3.googleusercontent.com/a/default-user=s64",
      "userId": "06668125805870524406"
     },
     "user_tz": 180
    },
    "id": "q_aDO4fbxISh"
   },
   "outputs": [],
   "source": [
    "import sklearn.metrics as metrics\n",
    "import matplotlib.pyplot as plt\n",
    "import seaborn as sn"
   ]
  },
  {
   "cell_type": "code",
   "execution_count": 22,
   "id": "0qqjWr1L6mvR",
   "metadata": {
    "executionInfo": {
     "elapsed": 268,
     "status": "ok",
     "timestamp": 1633397576341,
     "user": {
      "displayName": "MARTINA BUNGE",
      "photoUrl": "https://lh3.googleusercontent.com/a/default-user=s64",
      "userId": "06668125805870524406"
     },
     "user_tz": 180
    },
    "id": "0qqjWr1L6mvR"
   },
   "outputs": [],
   "source": [
    "predictions_valid=clf2.predict(cv_valid)"
   ]
  },
  {
   "cell_type": "code",
   "execution_count": 25,
   "id": "j_K2fWx8wz-B",
   "metadata": {
    "colab": {
     "base_uri": "https://localhost:8080/",
     "height": 459
    },
    "executionInfo": {
     "elapsed": 773,
     "status": "ok",
     "timestamp": 1633397616204,
     "user": {
      "displayName": "MARTINA BUNGE",
      "photoUrl": "https://lh3.googleusercontent.com/a/default-user=s64",
      "userId": "06668125805870524406"
     },
     "user_tz": 180
    },
    "id": "j_K2fWx8wz-B",
    "outputId": "05be68c3-5380-44f3-cfc7-f841d93da4d8"
   },
   "outputs": [
    {
     "data": {
      "text/plain": [
       "Text(69.0, 0.5, 'Predicciones')"
      ]
     },
     "execution_count": 25,
     "metadata": {},
     "output_type": "execute_result"
    },
    {
     "data": {
      "image/png": "[encoded data removed]",
      "text/plain": [
       "<Figure size 720x504 with 2 Axes>"
      ]
     },
     "metadata": {
      "needs_background": "light"
     },
     "output_type": "display_data"
    }
   ],
   "source": [
    "cm = metrics.confusion_matrix(labels_val, predictions_valid)\n",
    "plt.figure(figsize = (10,7))\n",
    "sn.heatmap(cm, annot=True, fmt=\"d\", cmap='Blues')\n",
    "plt.xlabel(\"Valores Reales\")\n",
    "plt.ylabel(\"Predicciones\")"
   ]
  },
  {
   "cell_type": "code",
   "execution_count": 34,
   "id": "pxH7_cgpHjG3",
   "metadata": {
    "executionInfo": {
     "elapsed": 219,
     "status": "ok",
     "timestamp": 1633398475737,
     "user": {
      "displayName": "MARTINA BUNGE",
      "photoUrl": "https://lh3.googleusercontent.com/a/default-user=s64",
      "userId": "06668125805870524406"
     },
     "user_tz": 180
    },
    "id": "pxH7_cgpHjG3"
   },
   "outputs": [],
   "source": [
    "def get_metrics(Y_valid, Y_valid_p):\n",
    "  valid_metrics = []\n",
    "  \n",
    "  matriz_conf_valid = metrics.confusion_matrix(Y_valid, Y_valid_p)\n",
    "  sn.heatmap(matriz_conf_valid,annot=True,cmap='Blues')\n",
    "\n",
    "  #accuracy\n",
    "  valid_metrics.append(metrics.accuracy_score(Y_valid, Y_valid_p))\n",
    "  #precision\n",
    "  valid_metrics.append(metrics.precision_score(Y_valid, Y_valid_p, average='macro'))\n",
    "  #recall\n",
    "  valid_metrics.append(metrics.recall_score(Y_valid, Y_valid_p, average='macro'))\n",
    "  #f1-score\n",
    "  valid_metrics.append(metrics.f1_score(Y_valid, Y_valid_p, average='macro'))\n",
    "\n",
    "  metrics_valid = pd.DataFrame(valid_metrics, columns = ['Valores'] ,index = ['Accuracy','Precision','Recall','F1-score'])\n",
    "  \n",
    "  return metrics_valid"
   ]
  },
  {
   "cell_type": "code",
   "execution_count": 35,
   "id": "RZ55wafcH6Yq",
   "metadata": {
    "colab": {
     "base_uri": "https://localhost:8080/",
     "height": 421
    },
    "executionInfo": {
     "elapsed": 899,
     "status": "ok",
     "timestamp": 1633398478271,
     "user": {
      "displayName": "MARTINA BUNGE",
      "photoUrl": "https://lh3.googleusercontent.com/a/default-user=s64",
      "userId": "06668125805870524406"
     },
     "user_tz": 180
    },
    "id": "RZ55wafcH6Yq",
    "outputId": "7f76d2dc-28c7-47dc-8888-3d9ba7083d60"
   },
   "outputs": [
    {
     "data": {
      "text/html": [
       "<div>\n",
       "<style scoped>\n",
       "    .dataframe tbody tr th:only-of-type {\n",
       "        vertical-align: middle;\n",
       "    }\n",
       "\n",
       "    .dataframe tbody tr th {\n",
       "        vertical-align: top;\n",
       "    }\n",
       "\n",
       "    .dataframe thead th {\n",
       "        text-align: right;\n",
       "    }\n",
       "</style>\n",
       "<table border=\"1\" class=\"dataframe\">\n",
       "  <thead>\n",
       "    <tr style=\"text-align: right;\">\n",
       "      <th></th>\n",
       "      <th>Valores</th>\n",
       "    </tr>\n",
       "  </thead>\n",
       "  <tbody>\n",
       "    <tr>\n",
       "      <th>Accuracy</th>\n",
       "      <td>0.667649</td>\n",
       "    </tr>\n",
       "    <tr>\n",
       "      <th>Precision</th>\n",
       "      <td>0.667796</td>\n",
       "    </tr>\n",
       "    <tr>\n",
       "      <th>Recall</th>\n",
       "      <td>0.667391</td>\n",
       "    </tr>\n",
       "    <tr>\n",
       "      <th>F1-score</th>\n",
       "      <td>0.667356</td>\n",
       "    </tr>\n",
       "  </tbody>\n",
       "</table>\n",
       "</div>"
      ],
      "text/plain": [
       "            Valores\n",
       "Accuracy   0.667649\n",
       "Precision  0.667796\n",
       "Recall     0.667391\n",
       "F1-score   0.667356"
      ]
     },
     "execution_count": 35,
     "metadata": {},
     "output_type": "execute_result"
    },
    {
     "data": {
      "image/png": "[encoded data removed]",
      "text/plain": [
       "<Figure size 432x288 with 2 Axes>"
      ]
     },
     "metadata": {
      "needs_background": "light"
     },
     "output_type": "display_data"
    }
   ],
   "source": [
    "metrics_valid = get_metrics(labels_val, predictions_valid)\n",
    "metrics_valid"
   ]
  }
 ],
 "metadata": {
  "colab": {
   "collapsed_sections": [
    "Qm-YVqXEHLva",
    "uEMUy6KTUqD-",
    "SBri-ajqmRj0"
   ],
   "name": " TP1 MLP.ipynb",
   "provenance": [
    {
     "file_id": "11CbBsLeW9C6Qucg44ajHpTlf4EMlH50n",
     "timestamp": 1633140394847
    }
   ]
  },
  "kernelspec": {
   "display_name": "Python [conda env:CNN_clases]",
   "language": "python",
   "name": "conda-env-CNN_clases-py"
  },
  "language_info": {
   "codemirror_mode": {
    "name": "ipython",
    "version": 3
   },
   "file_extension": ".py",
   "mimetype": "text/x-python",
   "name": "python",
   "nbconvert_exporter": "python",
   "pygments_lexer": "ipython3",
   "version": "3.8.10"
  }
 },
 "nbformat": 4,
 "nbformat_minor": 5
}
